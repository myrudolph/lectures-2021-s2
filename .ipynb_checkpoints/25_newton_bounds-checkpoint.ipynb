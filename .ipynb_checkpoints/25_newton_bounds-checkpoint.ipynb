{
 "cells": [
  {
   "cell_type": "markdown",
   "metadata": {
    "slideshow": {
     "slide_type": "slide"
    }
   },
   "source": [
    "# Foundations of Computational Economics #25\n",
    "\n",
    "by Fedor Iskhakov, ANU\n",
    "\n",
    "<img src=\"_static/img/dag3logo.png\" style=\"width:256px;\">"
   ]
  },
  {
   "cell_type": "markdown",
   "metadata": {
    "slideshow": {
     "slide_type": "fragment"
    }
   },
   "source": [
    "## Newton-Raphson method with bounds\n",
    "\n",
    "<img src=\"_static/img/lab.png\" style=\"width:64px;\">"
   ]
  },
  {
   "cell_type": "markdown",
   "metadata": {
    "slideshow": {
     "slide_type": "subslide"
    }
   },
   "source": [
    "<img src=\"_static/img/youtube.png\" style=\"width:65px;\">\n",
    "\n",
    "[https://youtu.be/1fD-BSiO1f4](https://youtu.be/1fD-BSiO1f4)\n",
    "\n",
    "Description: Robust implementation of Newton method for problems with strict bounds."
   ]
  },
  {
   "cell_type": "markdown",
   "metadata": {
    "slideshow": {
     "slide_type": "slide"
    }
   },
   "source": [
    "- example of how elements of different methods can be combined\n",
    "  in a poly-algorithm  \n",
    "- deeper merge than a multi-stage poly-algorithm we mentioned before, such as\n",
    "  1. Robust slow method for initial search of parameter space\n",
    "  2. Fast accurate method invoked from a very good starting values  "
   ]
  },
  {
   "cell_type": "markdown",
   "metadata": {
    "slideshow": {
     "slide_type": "slide"
    }
   },
   "source": [
    "### Example\n",
    "\n",
    "Solve the following equation\n",
    "\n",
    "$$\n",
    "f(x) = a \\log(x) + b \\log(1-x) + c = 0, \\; ab<0\n",
    "$$\n",
    "\n",
    "This equation arises in the models of discrete choice in IO, for example when computing a mixed\n",
    "strategy equilibrium in a two players game with binary actions."
   ]
  },
  {
   "cell_type": "markdown",
   "metadata": {
    "slideshow": {
     "slide_type": "slide"
    }
   },
   "source": [
    "### Theoretical properties and numerical difficulties\n",
    "\n",
    "- $ x \\in (0,1) $ are strict limits, any algorithm will break down if stepping outside  \n",
    "- there is exactly one solution for any values of parameters $ a,b,c $ (where $ a $ and $ b $ have opposite signs, without loss of generality assume $ a>0 $ and $ b<0 $)\n",
    "  - $ f(x) $ is continuous in its domain $ x \\in (0,1) $\n",
    "  - $ f'(x) \\ge 0 $ everywhere in the domain, so the function is monotonically increasing, and vise versa\n",
    "  - when $ x \\rightarrow 0 $ from the right $ f(x) \\rightarrow -\\infty $, and when $ x \\rightarrow 1 $ from the left $ f(x) \\rightarrow \\infty $, and vise versa  \n",
    "- but depending on the value of $ c $ the solution may be arbitrary close to 0 or 1!  "
   ]
  },
  {
   "cell_type": "markdown",
   "metadata": {
    "slideshow": {
     "slide_type": "slide"
    }
   },
   "source": [
    "- Newton — can easily overshoot to the outside of domain  \n",
    "- bisections — may take forever to converge  \n",
    "- successive approximations — ?  "
   ]
  },
  {
   "cell_type": "markdown",
   "metadata": {
    "slideshow": {
     "slide_type": "slide"
    }
   },
   "source": [
    "### Newton-bisection hybrid algorithm\n",
    "\n",
    "1. Initialize with interval $ (a,b) $ such that the function\n",
    "  has opposite signs at the ends, and starting value $ x_0 $  \n",
    "1. Compute the Newton step and check if it remains within the bounds  \n",
    "1. If yes, make Newton step and continue to next iteration  \n",
    "1. If not, make a bisection step and continue to next iteration  \n",
    "1. Iterate until convergence, or until maximum number of iterations is exceeded  "
   ]
  },
  {
   "cell_type": "code",
   "execution_count": 2,
   "metadata": {
    "hide-output": false,
    "slideshow": {
     "slide_type": "slide"
    }
   },
   "outputs": [
    {
     "data": {
      "text/plain": [
       "{'divide': 'warn', 'over': 'warn', 'under': 'ignore', 'invalid': 'warn'}"
      ]
     },
     "execution_count": 2,
     "metadata": {},
     "output_type": "execute_result"
    }
   ],
   "source": [
    "import numpy as np\n",
    "import matplotlib.pyplot as plt\n",
    "%matplotlib inline\n",
    "plt.rcParams['figure.figsize'] = [12, 8]\n",
    "np.seterr(all=None, divide='ignore', over=None, under=None, invalid='ignore')  # turn off log(0) warning"
   ]
  },
  {
   "cell_type": "code",
   "execution_count": 48,
   "metadata": {
    "hide-output": false,
    "slideshow": {
     "slide_type": "slide"
    }
   },
   "outputs": [
    {
     "data": {
      "image/png": "[encoded data removed]",
      "text/plain": [
       "<Figure size 1200x800 with 1 Axes>"
      ]
     },
     "metadata": {},
     "output_type": "display_data"
    },
    {
     "name": "stdout",
     "output_type": "stream",
     "text": [
      "Initial x0 = 0.50000\n",
      "iter=0   bisection, x=0.250000000000000, err=2.500e-01, bounds=(0.00000,0.50000)\n",
      "iter=1   bisection, x=0.125000000000000, err=1.250e-01, bounds=(0.00000,0.25000)\n",
      "iter=2   bisection, x=0.062500000000000, err=6.250e-02, bounds=(0.00000,0.12500)\n",
      "iter=3   bisection, x=0.031250000000000, err=3.125e-02, bounds=(0.00000,0.06250)\n",
      "iter=4   bisection, x=0.015625000000000, err=1.562e-02, bounds=(0.00000,0.03125)\n",
      "iter=5   bisection, x=0.007812500000000, err=7.812e-03, bounds=(0.00000,0.01562)\n",
      "iter=6   bisection, x=0.003906250000000, err=3.906e-03, bounds=(0.00000,0.00781)\n",
      "iter=7   bisection, x=0.001953125000000, err=1.953e-03, bounds=(0.00000,0.00391)\n",
      "iter=8   bisection, x=0.000976562500000, err=9.766e-04, bounds=(0.00000,0.00195)\n",
      "iter=9   bisection, x=0.000488281250000, err=4.883e-04, bounds=(0.00000,0.00098)\n",
      "iter=10  bisection, x=0.000244140625000, err=2.441e-04, bounds=(0.00000,0.00049)\n",
      "iter=11  bisection, x=0.000122070312500, err=1.221e-04, bounds=(0.00000,0.00024)\n",
      "iter=12  bisection, x=0.000061035156250, err=6.104e-05, bounds=(0.00000,0.00012)\n",
      "iter=13  bisection, x=0.000030517578125, err=3.052e-05, bounds=(0.00000,0.00006)\n",
      "iter=14  bisection, x=0.000015258789062, err=1.526e-05, bounds=(0.00000,0.00003)\n",
      "iter=15  bisection, x=0.000007629394531, err=7.629e-06, bounds=(0.00000,0.00002)\n",
      "iter=16  bisection, x=0.000003814697266, err=3.815e-06, bounds=(0.00000,0.00001)\n",
      "iter=17  bisection, x=0.000001907348633, err=1.907e-06, bounds=(0.00000,0.00000)\n",
      "iter=18  bisection, x=0.000000953674316, err=9.537e-07, bounds=(0.00000,0.00000)\n",
      "The found solutions is 0.000000953674316\n"
     ]
    }
   ],
   "source": [
    "# code up the function\n",
    "a,b,c = 10,-1,500000\n",
    "f = lambda x: a*np.log(x)+b*np.log(1-x)+c\n",
    "g = lambda x: a/x - b/(1-x)\n",
    "# plot of the function\n",
    "xd = np.linspace(0,1,1000)\n",
    "plt.plot(xd,f(xd),c='r')\n",
    "plt.plot([0,1],[0,0],c='grey')\n",
    "plt.show()\n",
    "#solver\n",
    "def newton_bounded(fun,grad,x0=None,a=0,b=1,tol=1e-6,maxiter=100,callback=None):\n",
    "    '''Implementation of Newton algorithm with bounds'''\n",
    "    sa,sb = np.sign(fun(a)), np.sign(fun(b))\n",
    "    if f(a)*f(b)>0:\n",
    "        raise ValueError('Function has the same sign at the bounds')\n",
    "    x0 = (a+b)/2 if x0 == None else x0\n",
    "    for i in range(maxiter):\n",
    "        f0 = fun(x0)\n",
    "        newt = x0 - f0/grad(x0) #Newton step\n",
    "        if not a <= newt <=b:\n",
    "            # do bisection step\n",
    "            a,b = (x0,b) if np.sign(f0) == sa else (a,x0)\n",
    "            x1 = (a+b)/2\n",
    "            step='bisection'\n",
    "        else:\n",
    "            x1 = newt\n",
    "            step = 'newton'\n",
    "        err = abs(x1-x0)\n",
    "        if callback != None: callback(iter=i,type=step,err=err,x0=x0,x1=x1,a=a,b=b)\n",
    "        if err<tol: \n",
    "            break\n",
    "        x0 = x1\n",
    "    else:\n",
    "        raise RuntimeError('Failed to converge in %d iterations'%maxiter)\n",
    "    return x1\n",
    "\n",
    "def printiter(**kwargs):\n",
    "    i = kwargs['iter']\n",
    "    x = kwargs['x1']\n",
    "    err = kwargs['err']\n",
    "    a = kwargs['a']\n",
    "    b = kwargs['b']\n",
    "    t = kwargs['type']\n",
    "    if i == 0:\n",
    "        print('Initial x0 = {:1.5f}'.format(kwargs['x0']))\n",
    "        pass\n",
    "    print('iter={:<3d} {:9s}, x={:1.15f}, err={:1.3e}, bounds=({:1.5f},{:1.5f})'.format(i,t,x,err,a,b))\n",
    "#     pass\n",
    "\n",
    "xs = newton_bounded(f,g, callback=printiter)\n",
    "print(\"The found solutions is {:1.15f}\".format(xs))"
   ]
  },
  {
   "cell_type": "code",
   "execution_count": null,
   "metadata": {
    "hide-output": false,
    "slideshow": {
     "slide_type": "slide"
    }
   },
   "outputs": [],
   "source": [
    "#\n",
    "\n",
    "\n",
    "\n",
    "\n",
    "\n",
    "\n",
    "\n",
    "\n",
    "\n",
    "\n",
    "\n",
    "\n",
    "\n",
    "\n",
    "\n",
    "# solution below\n",
    "\n",
    "\n",
    "\n",
    "\n",
    "\n",
    "\n",
    "\n",
    "\n",
    "\n",
    "\n",
    "\n",
    "\n",
    "\n",
    "\n",
    "\n",
    "#"
   ]
  },
  {
   "cell_type": "code",
   "execution_count": null,
   "metadata": {
    "hide-output": false,
    "slideshow": {
     "slide_type": "slide"
    }
   },
   "outputs": [],
   "source": [
    "def newton_bounds(fun,grad,x0=None,bounds=(0,1),\n",
    "                  tol=1e-6,maxiter=100,callback=None):\n",
    "    '''Polyalgorithm that combines bisections and Newton-Raphson\n",
    "       to solve fun(x)=0 within given lower and upper bounds.\n",
    "       Callback function is invoked at each iteration if given.\n",
    "    '''\n",
    "    a,b = bounds\n",
    "    sa,sb = np.sign(fun(a)),np.sign(fun(b))  # a and b signs, never change\n",
    "    if sa*sb > 0:\n",
    "        raise(ValueError('Function has the same signs at the initial lower and upper limits'))\n",
    "    x0 = (a+b)/2 if x0==None else x0  # midpoint is default x0\n",
    "    for i in range(maxiter):\n",
    "        f0 = fun(x0)\n",
    "        newt = x0 - f0/grad(x0) # Newton step\n",
    "        if not a < newt < b:\n",
    "            a,b = (x0,b) if np.sign(f0)*sa > 0 else (a,x0)  # update limits\n",
    "            x1 = (a+b)/2  # bisections step\n",
    "            step_type = 'bisection'\n",
    "        else:\n",
    "            x1 = newt\n",
    "            step_type = 'newton'\n",
    "        err = np.abs(x0-x1)  # save error for both steps\n",
    "        if callback:\n",
    "            callback(iter=i,type=step_type,err=err,x0=x0,x1=x1,bounds=(a,b))\n",
    "        if err < tol:\n",
    "            break\n",
    "        x0 = x1\n",
    "    else:\n",
    "        raise(RuntimeError('Failed to converge in %d iterations'%maxiter))\n",
    "    return x1"
   ]
  },
  {
   "cell_type": "code",
   "execution_count": null,
   "metadata": {
    "hide-output": false,
    "slideshow": {
     "slide_type": "slide"
    }
   },
   "outputs": [],
   "source": [
    "def run(a,b,c,plot=False,**kwargs):\n",
    "    '''Solves the equation with illustrations'''\n",
    "    assert a*b<0, 'Must have different signs on a and b by the conditions of the problem'\n",
    "    f = lambda x: a*np.log(x) + b*np.log(1-x) + c\n",
    "    g = lambda x: a/x - b/(1-x)\n",
    "    # plot\n",
    "    if plot:\n",
    "        xd = np.linspace(0,1,1000)\n",
    "        plt.plot(xd,f(xd),c='r')\n",
    "        plt.plot([0,1],[0,0],c='dimgrey')\n",
    "        plt.show()\n",
    "    def printiter (**kwargs):\n",
    "        printiter.cout += 1\n",
    "        iter = kwargs['iter']\n",
    "        type = kwargs['type']\n",
    "        x = kwargs['x1']\n",
    "        bounds = kwargs['bounds']\n",
    "        err = kwargs['err']\n",
    "        if iter == 0:\n",
    "            print('x0 = {}'.format(kwargs['x0']))\n",
    "        print('iter={:<3d} {:<9s}  x={:<23} err={:1.4e}   bounds={:}'.format(iter,type,x,err,bounds))\n",
    "    printiter.cout = 0\n",
    "    xs = newton_bounds(f,g,bounds=(0,1),callback=printiter,**kwargs)\n",
    "    print('Converged in %d iterations, x* = %1.16f' % (printiter.cout,xs))\n",
    "\n",
    "run(1,-4,0.5,plot=True)\n",
    "run(2,-1,-10,plot=True)\n",
    "run(2,-3,1e25)\n",
    "run(1,-1,-5,x0=.9,tol=1e-15)"
   ]
  },
  {
   "cell_type": "markdown",
   "metadata": {
    "slideshow": {
     "slide_type": "slide"
    }
   },
   "source": [
    "#### Further learning resources\n",
    "\n",
    "- Oscar Veliz video on Newton-bisections hybrid (more general)\n",
    "  [https://www.youtube.com/watch?v=FD3BPTMGJds&t=335s](https://www.youtube.com/watch?v=FD3BPTMGJds&t=335s)  "
   ]
  }
 ],
 "metadata": {
  "celltoolbar": "Slideshow",
  "date": 1627474986.303829,
  "filename": "25_newton_bounds.rst",
  "kernelspec": {
   "display_name": "Python 3 (ipykernel)",
   "language": "python",
   "name": "python3"
  },
  "language_info": {
   "codemirror_mode": {
    "name": "ipython",
    "version": 3
   },
   "file_extension": ".py",
   "mimetype": "text/x-python",
   "name": "python",
   "nbconvert_exporter": "python",
   "pygments_lexer": "ipython3",
   "version": "3.9.13"
  },
  "title": "Foundations of Computational Economics #25"
 },
 "nbformat": 4,
 "nbformat_minor": 4
}
