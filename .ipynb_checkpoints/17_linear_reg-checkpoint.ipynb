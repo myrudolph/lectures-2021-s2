{
 "cells": [
  {
   "cell_type": "markdown",
   "metadata": {
    "slideshow": {
     "slide_type": "slide"
    }
   },
   "source": [
    "# Foundations of Computational Economics #17\n",
    "\n",
    "by Fedor Iskhakov, ANU\n",
    "\n",
    "<img src=\"_static/img/dag3logo.png\" style=\"width:256px;\">"
   ]
  },
  {
   "cell_type": "markdown",
   "metadata": {
    "slideshow": {
     "slide_type": "fragment"
    }
   },
   "source": [
    "## Linear regression using Pandas and Numpy\n",
    "\n",
    "<img src=\"_static/img/lab.png\" style=\"width:64px;\">"
   ]
  },
  {
   "cell_type": "markdown",
   "metadata": {
    "slideshow": {
     "slide_type": "subslide"
    }
   },
   "source": [
    "<img src=\"_static/img/youtube.png\" style=\"width:65px;\">\n",
    "\n",
    "[https://youtu.be/LafDXp28IRE](https://youtu.be/LafDXp28IRE)\n",
    "\n",
    "Description: Using Numpy and Pandas to estimate simple regression."
   ]
  },
  {
   "cell_type": "markdown",
   "metadata": {
    "slideshow": {
     "slide_type": "slide"
    }
   },
   "source": [
    "### Linear regression\n",
    "\n",
    "Recall the classic linear regression model with data in columns of\n",
    "$ (X,y) $, where $ X $ are independent variables and $ y $ is\n",
    "the dependent variable.\n",
    "Parameter vector to be estimated is $ \\beta $, and we assume that\n",
    "errors follow $ \\varepsilon \\sim N(0, \\sigma) $\n",
    "\n",
    "$$\n",
    "y = X \\beta + \\varepsilon \\quad \\quad \\varepsilon \\sim N(0, \\sigma)\n",
    "$$\n",
    "\n",
    "Let $ \\hat{\\beta} $ denote the estimate of the parameters $ \\beta $.\n",
    "To find it, we minimize the sum of squares of the residuals\n",
    "$ e = y - X \\hat{\\beta} $, i.e. $ e'e \\longrightarrow_{\\hat{\\beta}} \\min $,\n",
    "which leads to the well known OLS formula\n",
    "\n",
    "$$\n",
    "\\hat{\\beta} = (X'X)^{-1} X' y\n",
    "$$\n",
    "\n",
    "The mean standard error (MSE) of the regression is calculated as $ s = \\sqrt{\\frac{1}{n-k} e'e} $,\n",
    "where $ n $ is the number of observations and $ k $ is the number of parameters (elements in $ \\beta $).\n",
    "\n",
    "The variance-covariance matrix of the estimates is given by $ \\hat{\\Sigma} = s^2 (X'X)^{-1} $.\n",
    "The square root of the diagonal elements of this matrix are them standard deviations of the estimates, and give us the measure of the accuracy of the estimated parameters.\n",
    "\n",
    "[William Greene “Econometric Analysis”](https://books.google.com.au/books?id=LWQuAAAAQBAJ&dq=greene%20econometric%20analysis)"
   ]
  },
  {
   "cell_type": "code",
   "execution_count": 63,
   "metadata": {
    "hide-output": false,
    "slideshow": {
     "slide_type": "slide"
    }
   },
   "outputs": [],
   "source": [
    "import numpy as np\n",
    "def ols(X,y,addConstant=True,verbose=True):\n",
    "    '''Return the OLS estimates and their variance-covariance matrix for the given data X,y\n",
    "    When addConstant is True, constant is added to X\n",
    "    When verbose is True, a report is printed\n",
    "    '''\n",
    "    if X.ndim==1:\n",
    "        X = X[:,np.newaxis]\n",
    "    if y.ndim==1:\n",
    "        y = y[:, np.newaxis]\n",
    "    if addConstant:\n",
    "        #add columnn of ones to X\n",
    "        X = np.hstack((np.ones((X.shape[0],1)),X))\n",
    "    beta = np.linalg.inv(X.T@X) @ X.T@y\n",
    "    e = y - X@beta\n",
    "    n,k = X.shape\n",
    "    s2 = e.T@e / (n-k)\n",
    "    s= np.sqrt(s2)[0,0]\n",
    "    Sigma = np.linalg.inv(X.T@X) * s2\n",
    "    beta_std = np.sqrt(np.diag(Sigma))\n",
    "    if verbose:\n",
    "        print('Number of observations: {}'.format(n))\n",
    "        print('Number of parameters: {}'.format(k))\n",
    "#         print(s, type(s), s.ndim, s.shape, sep='\\n\\n')\n",
    "        print('MSE={:.5f}'.format(s))\n",
    "        for b, std in zip(beta,beta_std):\n",
    "            b=b[0]\n",
    "            print('{:10.5f} ({:10.5f})'.format(b,std))\n",
    "    return beta, Sigma"
   ]
  },
  {
   "cell_type": "code",
   "execution_count": 64,
   "metadata": {
    "hide-output": false,
    "slideshow": {
     "slide_type": "slide"
    }
   },
   "outputs": [
    {
     "name": "stdout",
     "output_type": "stream",
     "text": [
      "Number of observations: 10\n",
      "Number of parameters: 3\n",
      "MSE=0.27241\n",
      "   2.63866 (   0.26667)\n",
      "   1.17841 (   0.06226)\n",
      "  -0.31427 (   0.03828)\n"
     ]
    }
   ],
   "source": [
    "# test on small dataset\n",
    "X = np.array([[5, 3],\n",
    "              [2, 3],\n",
    "              [3, 1],\n",
    "              [2, 8],\n",
    "              [4.5, 2.5],\n",
    "              [2.5, 1.5],\n",
    "              [4.3, 4.2],\n",
    "              [0.5, 3.5],\n",
    "              [1, 5],\n",
    "              [3, 8]])\n",
    "truebeta = np.array([1.234,-0.345])[:,np.newaxis]  # column vector\n",
    "# truebeta = np.array([1.234,-0.345])\n",
    "# print(truebeta, type(truebeta), truebeta.ndim, truebeta.shape)\n",
    "y = X @ truebeta + 2.5 + np.random.normal(size=(X.shape[0],1),scale=0.2)\n",
    "# print(X,truebeta,y,sep=\"\\n\\n\")\n",
    "beta,S=ols(X,y)\n",
    "# print(beta,S,sep='\\n\\n')\n",
    "# beta,S=ols(X,y,addConstant=False)"
   ]
  },
  {
   "cell_type": "code",
   "execution_count": 65,
   "metadata": {
    "hide-output": false,
    "slideshow": {
     "slide_type": "slide"
    }
   },
   "outputs": [
    {
     "name": "stdout",
     "output_type": "stream",
     "text": [
      "Number of observations: 10\n",
      "Number of parameters: 2\n",
      "MSE=0.30881\n",
      "  10.38000 (   0.21096)\n",
      "  -1.00364 (   0.03400)\n",
      "Number of observations: 10\n",
      "Number of parameters: 1\n",
      "MSE=5.07328\n",
      "   0.47922 (   0.25856)\n"
     ]
    }
   ],
   "source": [
    "# test with one dimensional arrays\n",
    "X = np.array([1,2,3,4,5,6,7,8,9,10])\n",
    "y = np.array([9.4,8.1,7.7,6.3,5.7,4.4,3.0,2.1,1.1,0.8])\n",
    "\n",
    "beta,S=ols(X,y)\n",
    "beta,S=ols(X,y,addConstant=False)"
   ]
  },
  {
   "cell_type": "code",
   "execution_count": null,
   "metadata": {
    "hide-output": false,
    "slideshow": {
     "slide_type": "slide"
    }
   },
   "outputs": [],
   "source": [
    "import numpy as np\n",
    "def ols(X,y,addConstant=True,verbose=True):\n",
    "    '''Return the OLS estimates and their variance-covariance matrix for the given data X,y\n",
    "    When addConstant is True, constant is added to X\n",
    "    When verbose is True, a report is printed\n",
    "    '''\n",
    "    y = y.squeeze()  # we are better off if y is one-dimensional\n",
    "    if addConstant and X.ndim==1:\n",
    "        X = np.hstack((np.ones(X.shape[0])[:,np.newaxis],X[:,np.newaxis]))\n",
    "        k = 2\n",
    "    elif addConstant and X.ndim>1:\n",
    "        X = np.hstack((np.ones(X.shape[0])[:,np.newaxis],X))\n",
    "        k = X.shape[1]+1\n",
    "    elif X.ndim==1:\n",
    "        X = X[:,np.newaxis]\n",
    "    xxinv = np.linalg.inv(X.T@X)  # inv(X'X)\n",
    "    beta = xxinv @ X.T@y  # OLS estimates\n",
    "    e = y - X@beta  # residuals\n",
    "    n,k = X.shape  # number of observations and parameters\n",
    "    s2 = e.T@e / (n-k)\n",
    "    Sigma = s2*xxinv\n",
    "    if verbose:\n",
    "        # report the estimates\n",
    "        print('Number of observations: {:d}\\nNumber of parameters: {:d}'.format(n,k))\n",
    "        print('Parameter estimates (std in brackets)')\n",
    "        for b,s in zip(beta,np.sqrt(np.diag(Sigma))):\n",
    "            print('{:10.5f} ({:10.5f})'.format(b,s))\n",
    "        print('MSE = {:1.5f}\\n'.format(np.sqrt(s2)))\n",
    "    return beta,Sigma"
   ]
  },
  {
   "cell_type": "markdown",
   "metadata": {
    "slideshow": {
     "slide_type": "slide"
    }
   },
   "source": [
    "### Data on median wages\n",
    "\n",
    "**The Economic Guide To Picking A College Major**\n",
    "\n",
    "Data dictionary available at\n",
    "\n",
    "[https://github.com/fivethirtyeight/data/tree/master/college-majors](https://github.com/fivethirtyeight/data/tree/master/college-majors)"
   ]
  },
  {
   "cell_type": "code",
   "execution_count": 66,
   "metadata": {
    "hide-output": false,
    "slideshow": {
     "slide_type": "fragment"
    }
   },
   "outputs": [],
   "source": [
    "import pandas as pd\n",
    "# same data as in video 15\n",
    "data = pd.read_csv('./_static/data/recent-grads.csv')"
   ]
  },
  {
   "cell_type": "code",
   "execution_count": 67,
   "metadata": {
    "hide-output": false,
    "slideshow": {
     "slide_type": "slide"
    }
   },
   "outputs": [
    {
     "name": "stdout",
     "output_type": "stream",
     "text": [
      "<class 'pandas.core.frame.DataFrame'>\n",
      "RangeIndex: 173 entries, 0 to 172\n",
      "Data columns (total 21 columns):\n",
      " #   Column                Non-Null Count  Dtype  \n",
      "---  ------                --------------  -----  \n",
      " 0   Rank                  173 non-null    int64  \n",
      " 1   Major_code            173 non-null    int64  \n",
      " 2   Major                 173 non-null    object \n",
      " 3   Total                 172 non-null    float64\n",
      " 4   Men                   172 non-null    float64\n",
      " 5   Women                 172 non-null    float64\n",
      " 6   Major_category        173 non-null    object \n",
      " 7   ShareWomen            172 non-null    float64\n",
      " 8   Sample_size           173 non-null    int64  \n",
      " 9   Employed              173 non-null    int64  \n",
      " 10  Full_time             173 non-null    int64  \n",
      " 11  Part_time             173 non-null    int64  \n",
      " 12  Full_time_year_round  173 non-null    int64  \n",
      " 13  Unemployed            173 non-null    int64  \n",
      " 14  Unemployment_rate     173 non-null    float64\n",
      " 15  Median                173 non-null    int64  \n",
      " 16  P25th                 173 non-null    int64  \n",
      " 17  P75th                 173 non-null    int64  \n",
      " 18  College_jobs          173 non-null    int64  \n",
      " 19  Non_college_jobs      173 non-null    int64  \n",
      " 20  Low_wage_jobs         173 non-null    int64  \n",
      "dtypes: float64(5), int64(14), object(2)\n",
      "memory usage: 28.5+ KB\n"
     ]
    }
   ],
   "source": [
    "data.info()"
   ]
  },
  {
   "cell_type": "code",
   "execution_count": 74,
   "metadata": {
    "hide-output": false,
    "slideshow": {
     "slide_type": "slide"
    }
   },
   "outputs": [
    {
     "data": {
      "text/html": [
       "<div>\n",
       "<style scoped>\n",
       "    .dataframe tbody tr th:only-of-type {\n",
       "        vertical-align: middle;\n",
       "    }\n",
       "\n",
       "    .dataframe tbody tr th {\n",
       "        vertical-align: top;\n",
       "    }\n",
       "\n",
       "    .dataframe thead th {\n",
       "        text-align: right;\n",
       "    }\n",
       "</style>\n",
       "<table border=\"1\" class=\"dataframe\">\n",
       "  <thead>\n",
       "    <tr style=\"text-align: right;\">\n",
       "      <th></th>\n",
       "      <th>ShareWomen</th>\n",
       "      <th>Median</th>\n",
       "    </tr>\n",
       "  </thead>\n",
       "  <tbody>\n",
       "    <tr>\n",
       "      <th>0</th>\n",
       "      <td>0.120564</td>\n",
       "      <td>110000</td>\n",
       "    </tr>\n",
       "    <tr>\n",
       "      <th>1</th>\n",
       "      <td>0.101852</td>\n",
       "      <td>75000</td>\n",
       "    </tr>\n",
       "    <tr>\n",
       "      <th>2</th>\n",
       "      <td>0.153037</td>\n",
       "      <td>73000</td>\n",
       "    </tr>\n",
       "    <tr>\n",
       "      <th>3</th>\n",
       "      <td>0.107313</td>\n",
       "      <td>70000</td>\n",
       "    </tr>\n",
       "    <tr>\n",
       "      <th>4</th>\n",
       "      <td>0.341631</td>\n",
       "      <td>65000</td>\n",
       "    </tr>\n",
       "    <tr>\n",
       "      <th>5</th>\n",
       "      <td>0.144967</td>\n",
       "      <td>65000</td>\n",
       "    </tr>\n",
       "    <tr>\n",
       "      <th>6</th>\n",
       "      <td>0.441356</td>\n",
       "      <td>62000</td>\n",
       "    </tr>\n",
       "    <tr>\n",
       "      <th>7</th>\n",
       "      <td>0.535714</td>\n",
       "      <td>62000</td>\n",
       "    </tr>\n",
       "    <tr>\n",
       "      <th>8</th>\n",
       "      <td>0.119559</td>\n",
       "      <td>60000</td>\n",
       "    </tr>\n",
       "    <tr>\n",
       "      <th>9</th>\n",
       "      <td>0.196450</td>\n",
       "      <td>60000</td>\n",
       "    </tr>\n",
       "    <tr>\n",
       "      <th>10</th>\n",
       "      <td>0.199413</td>\n",
       "      <td>60000</td>\n",
       "    </tr>\n",
       "    <tr>\n",
       "      <th>11</th>\n",
       "      <td>0.139793</td>\n",
       "      <td>60000</td>\n",
       "    </tr>\n",
       "    <tr>\n",
       "      <th>12</th>\n",
       "      <td>0.437847</td>\n",
       "      <td>60000</td>\n",
       "    </tr>\n",
       "    <tr>\n",
       "      <th>13</th>\n",
       "      <td>0.310820</td>\n",
       "      <td>60000</td>\n",
       "    </tr>\n",
       "    <tr>\n",
       "      <th>14</th>\n",
       "      <td>0.183985</td>\n",
       "      <td>58000</td>\n",
       "    </tr>\n",
       "    <tr>\n",
       "      <th>15</th>\n",
       "      <td>0.320784</td>\n",
       "      <td>57100</td>\n",
       "    </tr>\n",
       "    <tr>\n",
       "      <th>16</th>\n",
       "      <td>0.343473</td>\n",
       "      <td>57000</td>\n",
       "    </tr>\n",
       "    <tr>\n",
       "      <th>17</th>\n",
       "      <td>0.252960</td>\n",
       "      <td>56000</td>\n",
       "    </tr>\n",
       "    <tr>\n",
       "      <th>18</th>\n",
       "      <td>0.350442</td>\n",
       "      <td>54000</td>\n",
       "    </tr>\n",
       "    <tr>\n",
       "      <th>19</th>\n",
       "      <td>0.236063</td>\n",
       "      <td>54000</td>\n",
       "    </tr>\n",
       "    <tr>\n",
       "      <th>20</th>\n",
       "      <td>0.222695</td>\n",
       "      <td>53000</td>\n",
       "    </tr>\n",
       "    <tr>\n",
       "      <th>21</th>\n",
       "      <td>NaN</td>\n",
       "      <td>53000</td>\n",
       "    </tr>\n",
       "    <tr>\n",
       "      <th>22</th>\n",
       "      <td>0.292607</td>\n",
       "      <td>52000</td>\n",
       "    </tr>\n",
       "    <tr>\n",
       "      <th>23</th>\n",
       "      <td>0.325092</td>\n",
       "      <td>52000</td>\n",
       "    </tr>\n",
       "    <tr>\n",
       "      <th>24</th>\n",
       "      <td>0.278790</td>\n",
       "      <td>51000</td>\n",
       "    </tr>\n",
       "    <tr>\n",
       "      <th>25</th>\n",
       "      <td>0.227118</td>\n",
       "      <td>50000</td>\n",
       "    </tr>\n",
       "    <tr>\n",
       "      <th>26</th>\n",
       "      <td>0.090713</td>\n",
       "      <td>50000</td>\n",
       "    </tr>\n",
       "    <tr>\n",
       "      <th>27</th>\n",
       "      <td>0.324838</td>\n",
       "      <td>50000</td>\n",
       "    </tr>\n",
       "    <tr>\n",
       "      <th>28</th>\n",
       "      <td>0.189970</td>\n",
       "      <td>50000</td>\n",
       "    </tr>\n",
       "    <tr>\n",
       "      <th>29</th>\n",
       "      <td>0.558548</td>\n",
       "      <td>50000</td>\n",
       "    </tr>\n",
       "    <tr>\n",
       "      <th>30</th>\n",
       "      <td>0.342229</td>\n",
       "      <td>50000</td>\n",
       "    </tr>\n",
       "    <tr>\n",
       "      <th>31</th>\n",
       "      <td>0.251389</td>\n",
       "      <td>50000</td>\n",
       "    </tr>\n",
       "    <tr>\n",
       "      <th>32</th>\n",
       "      <td>0.410180</td>\n",
       "      <td>50000</td>\n",
       "    </tr>\n",
       "    <tr>\n",
       "      <th>33</th>\n",
       "      <td>0.322222</td>\n",
       "      <td>50000</td>\n",
       "    </tr>\n",
       "    <tr>\n",
       "      <th>34</th>\n",
       "      <td>0.896019</td>\n",
       "      <td>48000</td>\n",
       "    </tr>\n",
       "    <tr>\n",
       "      <th>35</th>\n",
       "      <td>0.340825</td>\n",
       "      <td>47000</td>\n",
       "    </tr>\n",
       "    <tr>\n",
       "      <th>36</th>\n",
       "      <td>0.355469</td>\n",
       "      <td>47000</td>\n",
       "    </tr>\n",
       "    <tr>\n",
       "      <th>37</th>\n",
       "      <td>0.430537</td>\n",
       "      <td>46000</td>\n",
       "    </tr>\n",
       "    <tr>\n",
       "      <th>38</th>\n",
       "      <td>0.249190</td>\n",
       "      <td>46000</td>\n",
       "    </tr>\n",
       "    <tr>\n",
       "      <th>39</th>\n",
       "      <td>0.750473</td>\n",
       "      <td>46000</td>\n",
       "    </tr>\n",
       "    <tr>\n",
       "      <th>40</th>\n",
       "      <td>0.524153</td>\n",
       "      <td>45000</td>\n",
       "    </tr>\n",
       "    <tr>\n",
       "      <th>41</th>\n",
       "      <td>0.448099</td>\n",
       "      <td>45000</td>\n",
       "    </tr>\n",
       "    <tr>\n",
       "      <th>42</th>\n",
       "      <td>0.253583</td>\n",
       "      <td>45000</td>\n",
       "    </tr>\n",
       "    <tr>\n",
       "      <th>43</th>\n",
       "      <td>0.281936</td>\n",
       "      <td>45000</td>\n",
       "    </tr>\n",
       "    <tr>\n",
       "      <th>44</th>\n",
       "      <td>0.753927</td>\n",
       "      <td>45000</td>\n",
       "    </tr>\n",
       "    <tr>\n",
       "      <th>45</th>\n",
       "      <td>0.244103</td>\n",
       "      <td>45000</td>\n",
       "    </tr>\n",
       "    <tr>\n",
       "      <th>46</th>\n",
       "      <td>0.526476</td>\n",
       "      <td>45000</td>\n",
       "    </tr>\n",
       "    <tr>\n",
       "      <th>47</th>\n",
       "      <td>0.434298</td>\n",
       "      <td>45000</td>\n",
       "    </tr>\n",
       "    <tr>\n",
       "      <th>48</th>\n",
       "      <td>0.707719</td>\n",
       "      <td>45000</td>\n",
       "    </tr>\n",
       "    <tr>\n",
       "      <th>49</th>\n",
       "      <td>0.688999</td>\n",
       "      <td>44700</td>\n",
       "    </tr>\n",
       "  </tbody>\n",
       "</table>\n",
       "</div>"
      ],
      "text/plain": [
       "    ShareWomen  Median\n",
       "0     0.120564  110000\n",
       "1     0.101852   75000\n",
       "2     0.153037   73000\n",
       "3     0.107313   70000\n",
       "4     0.341631   65000\n",
       "5     0.144967   65000\n",
       "6     0.441356   62000\n",
       "7     0.535714   62000\n",
       "8     0.119559   60000\n",
       "9     0.196450   60000\n",
       "10    0.199413   60000\n",
       "11    0.139793   60000\n",
       "12    0.437847   60000\n",
       "13    0.310820   60000\n",
       "14    0.183985   58000\n",
       "15    0.320784   57100\n",
       "16    0.343473   57000\n",
       "17    0.252960   56000\n",
       "18    0.350442   54000\n",
       "19    0.236063   54000\n",
       "20    0.222695   53000\n",
       "21         NaN   53000\n",
       "22    0.292607   52000\n",
       "23    0.325092   52000\n",
       "24    0.278790   51000\n",
       "25    0.227118   50000\n",
       "26    0.090713   50000\n",
       "27    0.324838   50000\n",
       "28    0.189970   50000\n",
       "29    0.558548   50000\n",
       "30    0.342229   50000\n",
       "31    0.251389   50000\n",
       "32    0.410180   50000\n",
       "33    0.322222   50000\n",
       "34    0.896019   48000\n",
       "35    0.340825   47000\n",
       "36    0.355469   47000\n",
       "37    0.430537   46000\n",
       "38    0.249190   46000\n",
       "39    0.750473   46000\n",
       "40    0.524153   45000\n",
       "41    0.448099   45000\n",
       "42    0.253583   45000\n",
       "43    0.281936   45000\n",
       "44    0.753927   45000\n",
       "45    0.244103   45000\n",
       "46    0.526476   45000\n",
       "47    0.434298   45000\n",
       "48    0.707719   45000\n",
       "49    0.688999   44700"
      ]
     },
     "execution_count": 74,
     "metadata": {},
     "output_type": "execute_result"
    }
   ],
   "source": [
    "data[['ShareWomen','Median']].head(n=50)"
   ]
  },
  {
   "cell_type": "code",
   "execution_count": 80,
   "metadata": {
    "hide-output": false,
    "slideshow": {
     "slide_type": "slide"
    }
   },
   "outputs": [
    {
     "name": "stderr",
     "output_type": "stream",
     "text": [
      "C:\\Users\\rudol\\AppData\\Local\\Temp\\ipykernel_51316\\2082807506.py:8: FutureWarning: Support for multi-dimensional indexing (e.g. `obj[:, None]`) is deprecated and will be removed in a future version.  Convert to a numpy array before indexing instead.\n",
      "  X = X[:,np.newaxis]\n",
      "C:\\Users\\rudol\\AppData\\Local\\Temp\\ipykernel_51316\\2082807506.py:10: FutureWarning: Support for multi-dimensional indexing (e.g. `obj[:, None]`) is deprecated and will be removed in a future version.  Convert to a numpy array before indexing instead.\n",
      "  y = y[:, np.newaxis]\n"
     ]
    },
    {
     "data": {
      "text/plain": [
       "[<matplotlib.lines.Line2D at 0x2092cd5e8e0>]"
      ]
     },
     "execution_count": 80,
     "metadata": {},
     "output_type": "execute_result"
    },
    {
     "data": {
      "image/png": "[encoded data removed]",
      "text/plain": [
       "<Figure size 1000x800 with 1 Axes>"
      ]
     },
     "metadata": {},
     "output_type": "display_data"
    }
   ],
   "source": [
    "import matplotlib.pyplot as plt\n",
    "%matplotlib inline\n",
    "data1 = data[['Median', 'ShareWomen']].dropna()\n",
    "data.plot(x='ShareWomen', y='Median', kind='scatter', figsize=(10, 8), color='red')\n",
    "plt.xlabel('Share of women')\n",
    "plt.ylabel('Median salary')\n",
    "#add a linear regression line to the plot\n",
    "beta,_ = ols(X=data1['ShareWomen'],y=data1['Median'], verbose=False)\n",
    "# print(data[['Median','ShareWomen']].isnull().sum()) # check if there are NaNs in the data!\n",
    "xx = np.linspace(0,1,100)\n",
    "ln = lambda x: beta[0] + beta[1]*x\n",
    "plt.plot(xx,ln(xx))"
   ]
  },
  {
   "cell_type": "code",
   "execution_count": 83,
   "metadata": {
    "hide-output": false,
    "slideshow": {
     "slide_type": "slide"
    }
   },
   "outputs": [
    {
     "name": "stdout",
     "output_type": "stream",
     "text": [
      "Median        0\n",
      "ShareWomen    1\n",
      "dtype: int64\n"
     ]
    },
    {
     "name": "stderr",
     "output_type": "stream",
     "text": [
      "C:\\Users\\rudol\\AppData\\Local\\Temp\\ipykernel_51316\\2082807506.py:8: FutureWarning: Support for multi-dimensional indexing (e.g. `obj[:, None]`) is deprecated and will be removed in a future version.  Convert to a numpy array before indexing instead.\n",
      "  X = X[:,np.newaxis]\n",
      "C:\\Users\\rudol\\AppData\\Local\\Temp\\ipykernel_51316\\2082807506.py:10: FutureWarning: Support for multi-dimensional indexing (e.g. `obj[:, None]`) is deprecated and will be removed in a future version.  Convert to a numpy array before indexing instead.\n",
      "  y = y[:, np.newaxis]\n"
     ]
    },
    {
     "data": {
      "image/png": "[encoded data removed]",
      "text/plain": [
       "<Figure size 1000x800 with 1 Axes>"
      ]
     },
     "metadata": {},
     "output_type": "display_data"
    }
   ],
   "source": [
    "print(data[['Median','ShareWomen']].isnull().sum()) # check if there are NaNs in the data!\n",
    "data1 = data[['Median','ShareWomen']].dropna()  # drop NaNs\n",
    "data1.plot(x='ShareWomen', y='Median', kind='scatter', figsize=(10, 8), color='red')\n",
    "plt.xlabel('Share of women')\n",
    "plt.ylabel('Median salary')\n",
    "# add a linear regression line to the plot\n",
    "b,_ = ols(X=data1['ShareWomen'],y=data1['Median'],verbose=False)\n",
    "fn = lambda x: b[0]+b[1]*x\n",
    "xx = np.linspace(0,1,100)\n",
    "plt.plot(xx,fn(xx),color='navy',linewidth=3)\n",
    "plt.show()"
   ]
  },
  {
   "cell_type": "code",
   "execution_count": 84,
   "metadata": {
    "hide-output": false,
    "slideshow": {
     "slide_type": "slide"
    }
   },
   "outputs": [],
   "source": [
    "# create fraction variables\n",
    "data.drop(index=data[data['Total']==0].index,inplace=True)  # drop zero Totals\n",
    "data.drop(index=data[data['Employed']==0].index,inplace=True)  # drop zero Employed\n",
    "data['Employment rate'] = data['Employed'] / data['Total']\n",
    "data['Fulltime rate'] = data['Full_time'] / data['Employed']\n",
    "data2 = data[['Median','ShareWomen','Employment rate','Fulltime rate']].dropna()  # drop NaNs\n",
    "y = data2['Median']/1000  # rescale salary"
   ]
  },
  {
   "cell_type": "code",
   "execution_count": 85,
   "metadata": {
    "hide-output": false,
    "slideshow": {
     "slide_type": "slide"
    }
   },
   "outputs": [
    {
     "name": "stdout",
     "output_type": "stream",
     "text": [
      "Number of observations: 171\n",
      "Number of parameters: 4\n",
      "MSE=8.83857\n",
      "  47.78925 (  10.54264)\n",
      " -27.86576 (   3.38424)\n",
      " -10.81362 (   9.80911)\n",
      "  18.51797 (   7.52103)\n"
     ]
    },
    {
     "name": "stderr",
     "output_type": "stream",
     "text": [
      "C:\\Users\\rudol\\AppData\\Local\\Temp\\ipykernel_51316\\2082807506.py:10: FutureWarning: Support for multi-dimensional indexing (e.g. `obj[:, None]`) is deprecated and will be removed in a future version.  Convert to a numpy array before indexing instead.\n",
      "  y = y[:, np.newaxis]\n"
     ]
    }
   ],
   "source": [
    "# run the full model\n",
    "ols(data2[['ShareWomen','Employment rate','Fulltime rate']],y);"
   ]
  },
  {
   "cell_type": "markdown",
   "metadata": {
    "slideshow": {
     "slide_type": "slide"
    }
   },
   "source": [
    "#### Further learning resources\n",
    "\n",
    "- Regression analysis using `sklearn` library\n",
    "  [https://datascience.quantecon.org/applications/regression.html](https://datascience.quantecon.org/applications/regression.html)  "
   ]
  },
  {
   "cell_type": "code",
   "execution_count": null,
   "metadata": {},
   "outputs": [],
   "source": [
    "#https://www.w3schools.com/python/python_lambda.asp"
   ]
  },
  {
   "cell_type": "code",
   "execution_count": 86,
   "metadata": {},
   "outputs": [
    {
     "name": "stdout",
     "output_type": "stream",
     "text": [
      "15\n"
     ]
    }
   ],
   "source": [
    "x = lambda a : a + 10\n",
    "print(x(5))"
   ]
  },
  {
   "cell_type": "code",
   "execution_count": 87,
   "metadata": {},
   "outputs": [
    {
     "name": "stdout",
     "output_type": "stream",
     "text": [
      "30\n"
     ]
    }
   ],
   "source": [
    "x = lambda a, b : a * b\n",
    "print(x(5, 6))"
   ]
  },
  {
   "cell_type": "code",
   "execution_count": 88,
   "metadata": {},
   "outputs": [
    {
     "name": "stdout",
     "output_type": "stream",
     "text": [
      "13\n"
     ]
    }
   ],
   "source": [
    "x = lambda a, b, c : a + b + c\n",
    "print(x(5, 6, 2))"
   ]
  },
  {
   "cell_type": "code",
   "execution_count": 92,
   "metadata": {},
   "outputs": [
    {
     "name": "stdout",
     "output_type": "stream",
     "text": [
      "22\n"
     ]
    }
   ],
   "source": [
    "def myfunc(n):\n",
    "  return lambda a : a * n\n",
    "mydoubler = myfunc(2)\n",
    "print(mydoubler(11))"
   ]
  },
  {
   "cell_type": "code",
   "execution_count": 93,
   "metadata": {},
   "outputs": [
    {
     "name": "stdout",
     "output_type": "stream",
     "text": [
      "33\n"
     ]
    }
   ],
   "source": [
    "def myfunc(n):\n",
    "  return lambda a : a * n\n",
    "\n",
    "mytripler = myfunc(3)\n",
    "\n",
    "print(mytripler(11))"
   ]
  },
  {
   "cell_type": "code",
   "execution_count": 94,
   "metadata": {},
   "outputs": [
    {
     "name": "stdout",
     "output_type": "stream",
     "text": [
      "22\n",
      "33\n"
     ]
    }
   ],
   "source": [
    "def myfunc(n):\n",
    "  return lambda a : a * n\n",
    "\n",
    "mydoubler = myfunc(2)\n",
    "mytripler = myfunc(3)\n",
    "\n",
    "print(mydoubler(11))\n",
    "print(mytripler(11))"
   ]
  }
 ],
 "metadata": {
  "celltoolbar": "Slideshow",
  "date": 1627474986.0993931,
  "filename": "17_linear_reg.rst",
  "kernelspec": {
   "display_name": "Python 3 (ipykernel)",
   "language": "python",
   "name": "python3"
  },
  "language_info": {
   "codemirror_mode": {
    "name": "ipython",
    "version": 3
   },
   "file_extension": ".py",
   "mimetype": "text/x-python",
   "name": "python",
   "nbconvert_exporter": "python",
   "pygments_lexer": "ipython3",
   "version": "3.9.13"
  },
  "title": "Foundations of Computational Economics #17"
 },
 "nbformat": 4,
 "nbformat_minor": 4
}
