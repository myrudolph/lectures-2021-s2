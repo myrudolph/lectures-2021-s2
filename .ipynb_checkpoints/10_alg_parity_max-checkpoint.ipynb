{
 "cells": [
  {
   "cell_type": "markdown",
   "metadata": {
    "slideshow": {
     "slide_type": "slide"
    }
   },
   "source": [
    "# Foundations of Computational Economics #10\n",
    "\n",
    "by Fedor Iskhakov, ANU\n",
    "\n",
    "<img src=\"_static/img/dag3logo.png\" style=\"width:256px;\">"
   ]
  },
  {
   "cell_type": "markdown",
   "metadata": {
    "slideshow": {
     "slide_type": "fragment"
    }
   },
   "source": [
    "## Two simple algorithms: parity and max\n",
    "\n",
    "<img src=\"_static/img/lab.png\" style=\"width:64px;\">"
   ]
  },
  {
   "cell_type": "markdown",
   "metadata": {
    "slideshow": {
     "slide_type": "subslide"
    }
   },
   "source": [
    "<img src=\"_static/img/youtube.png\" style=\"width:65px;\">\n",
    "\n",
    "[https://youtu.be/fKFZZc77if0](https://youtu.be/fKFZZc77if0)\n",
    "\n",
    "Description: Parity of a number, bitwise operations in Python. Finding maximum in an array."
   ]
  },
  {
   "cell_type": "markdown",
   "metadata": {
    "slideshow": {
     "slide_type": "slide"
    }
   },
   "source": [
    "### Divisibility by number base\n",
    "\n",
    "Whether a decimal number is divisible by 10 can be easily seen from its last digit.\n",
    "\n",
    "Similarly, whether a binary number is divisible by 2 can be easily seen from its last digit.\n",
    "\n",
    "**If last digit of a number is 0, it is divisible by its base!**"
   ]
  },
  {
   "cell_type": "markdown",
   "metadata": {
    "slideshow": {
     "slide_type": "slide"
    }
   },
   "source": [
    "#### Parity of a number algorithm\n",
    "\n",
    "1. Convert the number to binary  \n",
    "1. Check if last digit is zero  \n",
    "\n",
    "\n",
    "- All integers already have a clear binary representation  \n",
    "\n",
    "\n",
    "*This algorithm only applies to integers*"
   ]
  },
  {
   "cell_type": "markdown",
   "metadata": {
    "slideshow": {
     "slide_type": "slide"
    }
   },
   "source": [
    "### Bitwise operations in Python\n",
    "\n",
    "- bitwise AND **&**  \n",
    "- bitwise OR **|**  \n",
    "- bitwise XOR **^**  \n",
    "- bitwise NOT **~** (including sign bit!)  \n",
    "- right shift **>>**  \n",
    "- left shift **<<** (without overflow!)  "
   ]
  },
  {
   "cell_type": "markdown",
   "metadata": {
    "slideshow": {
     "slide_type": "slide"
    }
   },
   "source": [
    "#### Bitwise AND, OR and XOR\n",
    "\n",
    "<img src=\"_static/img/bitwise.png\" style=\"width:600px;\">"
   ]
  },
  {
   "cell_type": "code",
   "execution_count": 7,
   "metadata": {
    "hide-output": false,
    "slideshow": {
     "slide_type": "slide"
    }
   },
   "outputs": [
    {
     "name": "stdout",
     "output_type": "stream",
     "text": [
      "  a = 1 (0001)\n"
     ]
    }
   ],
   "source": [
    "# bitwise logic\n",
    "a,b = 3,5  # 3=0011, 5=0101 \n",
    "print('  a = {0:d} ({0:04b})\\n  b = {1:d} ({1:04b})'.format(a,b))\n",
    "print('a&b = {0:d} ({0:04b})'.format(a&b))\n",
    "print('a|b = {0:d} ({0:04b})'.format(a|b))\n",
    "print('a^b = {0:d} ({0:04b})'.format(a^b))"
   ]
  },
  {
   "cell_type": "markdown",
   "metadata": {
    "slideshow": {
     "slide_type": "slide"
    }
   },
   "source": [
    "#### Bit shifts in Python\n",
    "\n",
    "<img src=\"_static/img/bitshift.png\" style=\"width:600px;\">"
   ]
  },
  {
   "cell_type": "markdown",
   "metadata": {
    "slideshow": {
     "slide_type": "slide"
    }
   },
   "source": [
    "#### Replacing arithmetic operations with bit operations\n",
    "\n",
    "Is it possible?\n",
    "Which operations can be done in this *geeky* way?"
   ]
  },
  {
   "cell_type": "code",
   "execution_count": 3,
   "metadata": {
    "hide-output": false,
    "slideshow": {
     "slide_type": "slide"
    }
   },
   "outputs": [
    {
     "name": "stdout",
     "output_type": "stream",
     "text": [
      "  a =  227 (0000000011100011)\n",
      "  b =  113 (0000000001110001)\n",
      "\n",
      "  a =  227 (0000000011100011)\n",
      "  b =  908 (0000001110001100)\n",
      "\n"
     ]
    }
   ],
   "source": [
    "# bit shifts\n",
    "a = 0b11100011\n",
    "b = a >> 1\n",
    "print('  a = {0:4d} ({0:016b})\\n  b = {1:4d} ({1:016b})\\n'.format(a,b))\n",
    "b = a << 2\n",
    "print('  a = {0:4d} ({0:016b})\\n  b = {1:4d} ({1:016b})\\n'.format(a,b))"
   ]
  },
  {
   "cell_type": "code",
   "execution_count": 4,
   "metadata": {
    "hide-output": false,
    "slideshow": {
     "slide_type": "slide"
    }
   },
   "outputs": [
    {
     "name": "stdout",
     "output_type": "stream",
     "text": [
      "  a =  227 (0000000011100011)\n",
      "a//2 = 113, a>>1 = 113\n",
      "a//4 = 56, a>>2 = 56\n",
      "a//8 = 28, a>>3 = 28\n",
      "a//16 = 14, a>>4 = 14\n",
      "a//32 = 7, a>>5 = 7\n",
      "a//64 = 3, a>>6 = 3\n",
      "a//128 = 1, a>>7 = 1\n",
      "a//256 = 0, a>>8 = 0\n",
      "a//512 = 0, a>>9 = 0\n"
     ]
    }
   ],
   "source": [
    "# arythmetic operations with bit shifts\n",
    "a = 0b11100011\n",
    "print('  a = {0:4d} ({0:016b})'.format(a))\n",
    "\n",
    "for i in range(1,10):\n",
    "    x = 2**i\n",
    "    d = a//x\n",
    "    s = a>>i\n",
    "    print('a//%d = %d, a>>%d = %d' % (x,d,i,s))"
   ]
  },
  {
   "cell_type": "markdown",
   "metadata": {
    "slideshow": {
     "slide_type": "slide"
    }
   },
   "source": [
    "### Parity algorithm\n",
    "\n",
    "Run a single bitwise AND operation to\n",
    "compare against **0b0000001** which is simply 1 in decimal\n",
    "\n",
    "Complexity is constant because only one bit must be checked!\n",
    "\n",
    "*However, when running AND are all bits checked?*"
   ]
  },
  {
   "cell_type": "code",
   "execution_count": 2,
   "metadata": {
    "hide-output": false,
    "slideshow": {
     "slide_type": "slide"
    }
   },
   "outputs": [
    {
     "name": "stdout",
     "output_type": "stream",
     "text": [
      "  n = 603 (0000001001011011) --> parity=1\n",
      "1\n"
     ]
    }
   ],
   "source": [
    "# parity check\n",
    "def parity (n,verbose=False):\n",
    "    '''Returns 1 if passed integer number is odd\n",
    "    '''\n",
    "    assert isinstance(n, int), 'parity() only works for int'\n",
    "    if verbose:\n",
    "        print('  n = {0:d} ({0:016b}) --> parity={1:d}'.format(n,parity(n, verbose=False)))\n",
    "    \n",
    "    return n & 1\n",
    "\n",
    "x=0b1001011011\n",
    "print(parity(x, True))"
   ]
  },
  {
   "cell_type": "code",
   "execution_count": 3,
   "metadata": {
    "hide-output": false,
    "slideshow": {
     "slide_type": "slide"
    }
   },
   "outputs": [
    {
     "name": "stdout",
     "output_type": "stream",
     "text": [
      "n =     2 (00000010), parity=0\n",
      "n =     4 (00000100), parity=0\n",
      "n =     7 (00000111), parity=1\n",
      "n =    32 (00100000), parity=0\n",
      "n =   543 (1000011111), parity=1\n",
      "n =   671 (1010011111), parity=1\n",
      "n =   780 (1100001100), parity=0\n"
     ]
    }
   ],
   "source": [
    "# check parity of various numbers\n",
    "for n in [2,4,7,32,543,671,780]:\n",
    "    print('n = {0:5d} ({0:08b}), parity={1:d}'.format(n,parity(n)))"
   ]
  },
  {
   "cell_type": "code",
   "execution_count": null,
   "metadata": {
    "hide-output": false,
    "slideshow": {
     "slide_type": "slide"
    }
   },
   "outputs": [],
   "source": [
    "def parity (n,verbose=False):\n",
    "    '''Returns 1 if passed integer number is odd\n",
    "    '''\n",
    "    if not isinstance(n, int): raise TypeError('Only integers in parity()')\n",
    "    if verbose: print('n = {:08b}'.format(n))  # print binary form of the number\n",
    "    return n & 1  # bitwise and operation returns the value of last bit"
   ]
  },
  {
   "cell_type": "markdown",
   "metadata": {
    "slideshow": {
     "slide_type": "slide"
    }
   },
   "source": [
    "### Finding max/min in a list\n",
    "\n",
    "- In the worst case, there is no way to avoid checking *all elements*  \n",
    "- Complexity is linear in the number of elements on the list  "
   ]
  },
  {
   "cell_type": "code",
   "execution_count": 6,
   "metadata": {
    "hide-output": false,
    "slideshow": {
     "slide_type": "slide"
    }
   },
   "outputs": [
    {
     "name": "stdout",
     "output_type": "stream",
     "text": [
      "5\n"
     ]
    }
   ],
   "source": [
    "# import numpy as np\n",
    "def maximum_from_list (vars):\n",
    "    '''Returns the maximum from a list of values\n",
    "    '''\n",
    "    m = float('-inf')\n",
    "    for x in vars:\n",
    "        m = x if x > m else m\n",
    "    return m\n",
    "\n",
    "print(maximum_from_list([1,2,5,3]))"
   ]
  },
  {
   "cell_type": "code",
   "execution_count": 7,
   "metadata": {
    "hide-output": false,
    "slideshow": {
     "slide_type": "slide"
    }
   },
   "outputs": [
    {
     "name": "stdout",
     "output_type": "stream",
     "text": [
      "Maximum in [23.42749316 90.67964081 77.5333385  16.20814559 93.22645376 85.94433652\n",
      " 33.0437192   3.21221481 68.98096386 44.21216143] is 93.23\n",
      "Maximum in [82.40552249 19.33191475 17.72372411 36.32313137 19.62111044 74.21506032\n",
      " 41.46312803 89.42740868 53.42251812 26.59914177] is 89.43\n",
      "Maximum in [73.99868028 22.38846233 30.89279076 54.79899609 29.36447851 30.05020629\n",
      " 70.88064577 29.05769992 87.19377432  3.52493641] is 87.19\n",
      "Maximum in [21.16430183 82.82628821 44.39796778 42.74729925 27.7810076  66.56941602\n",
      " 41.43695098 96.97789387 28.25924651 22.24574385] is 96.98\n",
      "Maximum in [83.60524889 98.00298673 97.48669955 52.49226841 78.30862417  2.7848787\n",
      " 48.50227418 49.69443278 45.08674206 18.62569539] is 98.00\n"
     ]
    }
   ],
   "source": [
    "# find maximum in some random lists\n",
    "import numpy as np\n",
    "for i in range(5):\n",
    "    list = np.random.uniform(low=0.0, high=100.0, size=10)\n",
    "    m = maximum_from_list(list)\n",
    "    print('Maximum in {} is {:.2f}'.format(list,m))"
   ]
  },
  {
   "cell_type": "code",
   "execution_count": null,
   "metadata": {
    "hide-output": false,
    "slideshow": {
     "slide_type": "slide"
    }
   },
   "outputs": [],
   "source": [
    "def maximum_from_list (vars):\n",
    "    '''Returns the maximum from a list of values\n",
    "    '''\n",
    "    m=float('-inf')  # init with the worst value\n",
    "    for v in vars:\n",
    "        if v > m: m = v\n",
    "    return m"
   ]
  },
  {
   "cell_type": "markdown",
   "metadata": {
    "slideshow": {
     "slide_type": "slide"
    }
   },
   "source": [
    "### Further learning resources\n",
    "\n",
    "- Formatting strings\n",
    "  [https://www.digitalocean.com/community/tutorials/how-to-use-string-formatters-in-python-3](https://www.digitalocean.com/community/tutorials/how-to-use-string-formatters-in-python-3)  \n",
    "- Bitwise operations post on Geeksforgeeks\n",
    "  [https://www.geeksforgeeks.org/python-bitwise-operators/](https://www.geeksforgeeks.org/python-bitwise-operators/)  "
   ]
  }
 ],
 "metadata": {
  "celltoolbar": "Slideshow",
  "date": 1627474985.862944,
  "filename": "10_alg_parity_max.rst",
  "kernelspec": {
   "display_name": "Python 3 (ipykernel)",
   "language": "python",
   "name": "python3"
  },
  "language_info": {
   "codemirror_mode": {
    "name": "ipython",
    "version": 3
   },
   "file_extension": ".py",
   "mimetype": "text/x-python",
   "name": "python",
   "nbconvert_exporter": "python",
   "pygments_lexer": "ipython3",
   "version": "3.9.13"
  },
  "title": "Foundations of Computational Economics #10"
 },
 "nbformat": 4,
 "nbformat_minor": 4
}
