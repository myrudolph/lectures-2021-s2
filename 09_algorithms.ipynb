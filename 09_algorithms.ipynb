{
 "cells": [
  {
   "cell_type": "markdown",
   "metadata": {
    "slideshow": {
     "slide_type": "slide"
    }
   },
   "source": [
    "# Foundations of Computational Economics #9\n",
    "\n",
    "by Fedor Iskhakov, ANU\n",
    "\n",
    "<img src=\"_static/img/dag3logo.png\" style=\"width:256px;\">"
   ]
  },
  {
   "cell_type": "markdown",
   "metadata": {
    "slideshow": {
     "slide_type": "fragment"
    }
   },
   "source": [
    "## Algorithms and complexity\n",
    "\n",
    "<img src=\"_static/img/lecture.png\" style=\"width:64px;\">"
   ]
  },
  {
   "cell_type": "markdown",
   "metadata": {
    "slideshow": {
     "slide_type": "subslide"
    }
   },
   "source": [
    "<img src=\"_static/img/youtube.png\" style=\"width:65px;\">\n",
    "\n",
    "[https://youtu.be/pBbpEBVheOQ](https://youtu.be/pBbpEBVheOQ)\n",
    "\n",
    "Description: Timing of Python code. Runtime order of growth. Complexity classes. P vs NP."
   ]
  },
  {
   "cell_type": "markdown",
   "metadata": {
    "slideshow": {
     "slide_type": "slide"
    }
   },
   "source": [
    "### Two ways to evaluate the polynomial\n",
    "\n",
    "$$\n",
    "y = a_1 + a_2 x + a_3 x^2 + \\dots + a_k x^k\n",
    "$$\n",
    "\n",
    "Algorithm 1: compute each term, then add together\n",
    "\n",
    "Algorithm 2: try to avoid computing powers"
   ]
  },
  {
   "cell_type": "code",
   "execution_count": 1,
   "metadata": {
    "hide-output": false,
    "slideshow": {
     "slide_type": "slide"
    }
   },
   "outputs": [
    {
     "name": "stderr",
     "output_type": "stream",
     "text": [
      "<>:5: SyntaxWarning: \"is not\" with a literal. Did you mean \"!=\"?\n",
      "<>:5: SyntaxWarning: \"is not\" with a literal. Did you mean \"!=\"?\n",
      "C:\\Users\\rudol\\AppData\\Local\\Temp\\ipykernel_49236\\2899861198.py:5: SyntaxWarning: \"is not\" with a literal. Did you mean \"!=\"?\n",
      "  if algorithm is not 'fast':\n"
     ]
    }
   ],
   "source": [
    "def calc_polynomial(qs=[0,], x=0.0, algorithm='fast'):\n",
    "    '''Evaluates the polynomial given by coefficients qs at given x.\n",
    "    First coefficient qs[0] is a constant, last coefficient is for highest power.\n",
    "    '''\n",
    "    if algorithm is not 'fast':\n",
    "        # slower algorithm\n",
    "        res=0.0\n",
    "        for k in range(len(qs)):\n",
    "            xpw = x**k\n",
    "            res += qs[k] * xpw\n",
    "    else:\n",
    "        # faster algorithm\n",
    "        res,xpw = qs[0], x  # init result and power of x\n",
    "        for i in range(1,len(qs)):  # start with second coefficient\n",
    "            res += xpw * qs[i]\n",
    "            xpw *= x\n",
    "    return res"
   ]
  },
  {
   "cell_type": "markdown",
   "metadata": {
    "slideshow": {
     "slide_type": "slide"
    }
   },
   "source": [
    "#### Timing function evaluation\n",
    "\n",
    "Several ways to measure run time in python\n",
    "\n",
    "- **time** module  \n",
    "- **timeit** module (for small snippets)  \n",
    "- profiles (**profile** and **cProfile**, for large codes)  \n",
    "\n",
    "\n",
    "In Jupyter Notebooks we can use a **magic function** timeit"
   ]
  },
  {
   "cell_type": "code",
   "execution_count": 2,
   "metadata": {
    "hide-output": false,
    "slideshow": {
     "slide_type": "slide"
    }
   },
   "outputs": [
    {
     "ename": "SyntaxError",
     "evalue": "invalid syntax (227496276.py, line 1)",
     "output_type": "error",
     "traceback": [
      "\u001b[1;36m  File \u001b[1;32m\"C:\\Users\\rudol\\AppData\\Local\\Temp\\ipykernel_49236\\227496276.py\"\u001b[1;36m, line \u001b[1;32m1\u001b[0m\n\u001b[1;33m    @timeit <options> <line of code to be timed>\u001b[0m\n\u001b[1;37m                      ^\u001b[0m\n\u001b[1;31mSyntaxError\u001b[0m\u001b[1;31m:\u001b[0m invalid syntax\n"
     ]
    }
   ],
   "source": [
    "@timeit <options> <line of code to be timed>"
   ]
  },
  {
   "cell_type": "code",
   "execution_count": 3,
   "metadata": {
    "hide-output": false,
    "slideshow": {
     "slide_type": "fragment"
    }
   },
   "outputs": [
    {
     "ename": "SyntaxError",
     "evalue": "invalid syntax (1545953692.py, line 1)",
     "output_type": "error",
     "traceback": [
      "\u001b[1;36m  File \u001b[1;32m\"C:\\Users\\rudol\\AppData\\Local\\Temp\\ipykernel_49236\\1545953692.py\"\u001b[1;36m, line \u001b[1;32m1\u001b[0m\n\u001b[1;33m    @@timeit <options> <setup command>\u001b[0m\n\u001b[1;37m     ^\u001b[0m\n\u001b[1;31mSyntaxError\u001b[0m\u001b[1;31m:\u001b[0m invalid syntax\n"
     ]
    }
   ],
   "source": [
    "@@timeit <options> <setup command>\n",
    "all lines of code in the cell\n",
    "to be timed together"
   ]
  },
  {
   "cell_type": "markdown",
   "metadata": {
    "slideshow": {
     "slide_type": "fragment"
    }
   },
   "source": [
    "[Documentation on @timeit](https://ipython.readthedocs.io/en/stable/interactive/magics.html?highlight=timeit#magic-timeit)"
   ]
  },
  {
   "cell_type": "code",
   "execution_count": 4,
   "metadata": {
    "hide-output": false,
    "slideshow": {
     "slide_type": "slide"
    }
   },
   "outputs": [
    {
     "name": "stdout",
     "output_type": "stream",
     "text": [
      "56.7 µs ± 10.8 µs per loop (mean ± std. dev. of 100 runs, 100 loops each)\n"
     ]
    }
   ],
   "source": [
    "%%timeit -n100 -r100 qs = [1,]*100\n",
    "calc_polynomial(qs,15,'slow')"
   ]
  },
  {
   "cell_type": "code",
   "execution_count": 5,
   "metadata": {
    "hide-output": false,
    "slideshow": {
     "slide_type": "fragment"
    }
   },
   "outputs": [
    {
     "name": "stdout",
     "output_type": "stream",
     "text": [
      "15.2 µs ± 3.45 µs per loop (mean ± std. dev. of 100 runs, 100 loops each)\n"
     ]
    }
   ],
   "source": [
    "%%timeit -n100 -r100 qs = [1,]*100\n",
    "calc_polynomial(qs,15,'fast')"
   ]
  },
  {
   "cell_type": "markdown",
   "metadata": {
    "slideshow": {
     "slide_type": "slide"
    }
   },
   "source": [
    "### Algorithms\n",
    "\n",
    "**Sequence of commands** for computer to run\n",
    "\n",
    "1. How much time does it take to run?  \n",
    "1. How much memory does it need?  \n",
    "1. What other resources may be limiting? (storage, communication, etc)  \n",
    "\n",
    "\n",
    "**Smart algorithm is a lot more important that fast computer**"
   ]
  },
  {
   "cell_type": "markdown",
   "metadata": {
    "slideshow": {
     "slide_type": "slide"
    }
   },
   "source": [
    "#### Computational speed and algorithm development\n",
    "\n",
    "[Professor Martin Grötschel Konrad-Zuse-Zentrum für Informationstechnik\n",
    "Berlin, expert in optimization](http://robertvienneau.blogspot.com/2011/01/increase-in-feasibility-of-economic.html)\n",
    "\n",
    "> “a benchmark production planning model solved using linear\n",
    "programming would have taken 82 years to solve in 1988, using the\n",
    "computers and the linear programming algorithms of the day. Fifteen\n",
    "years later – in 2003 – this same model could be solved in roughly 1\n",
    "minute, an improvement by a factor of roughly 43 million. Of this, a\n",
    "factor of roughly 1,000 was due to increased processor speed, whereas\n",
    "a factor of roughly 43,000 was due to improvements in algorithms!”"
   ]
  },
  {
   "cell_type": "code",
   "execution_count": 6,
   "metadata": {
    "hide-output": false,
    "slideshow": {
     "slide_type": "subslide"
    }
   },
   "outputs": [
    {
     "name": "stdout",
     "output_type": "stream",
     "text": [
      "Writing algorithm_examples.py\n"
     ]
    }
   ],
   "source": [
    "%%writefile 'algorithm_examples.py'\n",
    "\n",
    "# Example code to be discussed in the following videos\n",
    "\n",
    "import time\n",
    "\n",
    "def parity (n,verbose=False):\n",
    "    '''Returns 1 if passed integer number is odd\n",
    "    '''\n",
    "    if not isinstance(n, int): raise TypeError('Only integers in parity()')\n",
    "    if verbose: print('n = ', format(n, \"b\"))  # print binary form of the number\n",
    "    return n & 1  # bitwise and operation returns the value of last bit\n",
    "\n",
    "def maximum_from_list (vars):\n",
    "    '''Returns the maximum from a list of values\n",
    "    '''\n",
    "    m=float('-inf')  # init with the worst value\n",
    "    for v in vars:\n",
    "        if v > m: m = v\n",
    "    return m\n",
    "\n",
    "def binary_search(grid=[0,1],val=0,delay=0):\n",
    "    '''Returns the index of val on the sorted grid\n",
    "    Optional delay introduces a delay (in microsecond)\n",
    "    '''\n",
    "    i1,i2 = 0,len(grid)-1\n",
    "    if val==grid[i1]: return i1\n",
    "    if val==grid[i2]: return i2\n",
    "    j=(i1+i2)//2\n",
    "    while grid[j]!=val:\n",
    "        if val>grid[j]:\n",
    "            i1=j\n",
    "        else:\n",
    "            i2=j\n",
    "        j=(i1+i2)//2  # divide in half\n",
    "        time.sleep(delay*1e-6)  # micro-sec to seconds\n",
    "    return j\n",
    "\n",
    "def compositions(N,m):\n",
    "    '''Iterable on compositions of N with m parts\n",
    "    Returns the generator (to be used in for loops)\n",
    "    '''\n",
    "    cmp=[0,]*m\n",
    "    cmp[m-1]=N  # initial composition is all to the last\n",
    "    yield cmp\n",
    "    while cmp[0]!=N:\n",
    "        i=m-1\n",
    "        while cmp[i]==0: i-=1  # find lowest non-zero digit\n",
    "        cmp[i-1] = cmp[i-1]+1  # increment next digit\n",
    "        cmp[m-1] = cmp[i]-1    # the rest to the lowest\n",
    "        if i!=m-1: cmp[i] = 0  # maintain cost sum\n",
    "        yield cmp"
   ]
  },
  {
   "cell_type": "markdown",
   "metadata": {
    "slideshow": {
     "slide_type": "slide"
    }
   },
   "source": [
    "#### Parity of a number\n",
    "\n",
    "Check whether an integer is odd or even.\n",
    "\n",
    "Algorithm: check the last bit in the binary representation of a number"
   ]
  },
  {
   "cell_type": "code",
   "execution_count": 7,
   "metadata": {
    "hide-output": false,
    "slideshow": {
     "slide_type": "fragment"
    }
   },
   "outputs": [
    {
     "name": "stdout",
     "output_type": "stream",
     "text": [
      "k=10 (4 bits)\n",
      "189 ns ± 71.9 ns per loop (mean ± std. dev. of 500 runs, 5000 loops each)\n",
      "k=101 (7 bits)\n",
      "191 ns ± 67.1 ns per loop (mean ± std. dev. of 500 runs, 5000 loops each)\n",
      "k=1002 (10 bits)\n",
      "211 ns ± 85.7 ns per loop (mean ± std. dev. of 500 runs, 5000 loops each)\n",
      "k=10003 (14 bits)\n",
      "187 ns ± 48.8 ns per loop (mean ± std. dev. of 500 runs, 5000 loops each)\n",
      "k=100004 (17 bits)\n",
      "191 ns ± 67.6 ns per loop (mean ± std. dev. of 500 runs, 5000 loops each)\n"
     ]
    }
   ],
   "source": [
    "# import all example code\n",
    "from algorithm_examples import *\n",
    "\n",
    "for k in [10**(i+1)+i for i in range(5)]:\n",
    "    print('k=%d (%d bits)' % (k,k.bit_length()))\n",
    "    tt = %timeit -n5000 -r500 -o parity(k)"
   ]
  },
  {
   "cell_type": "code",
   "execution_count": 9,
   "metadata": {
    "hide-output": false,
    "slideshow": {
     "slide_type": "slide"
    }
   },
   "outputs": [
    {
     "name": "stdout",
     "output_type": "stream",
     "text": [
      "196 ns ± 66.4 ns per loop (mean ± std. dev. of 100 runs, 5000 loops each)\n",
      "223 ns ± 58.6 ns per loop (mean ± std. dev. of 100 runs, 5000 loops each)\n",
      "204 ns ± 90.4 ns per loop (mean ± std. dev. of 100 runs, 5000 loops each)\n",
      "177 ns ± 61.3 ns per loop (mean ± std. dev. of 100 runs, 5000 loops each)\n",
      "205 ns ± 87.2 ns per loop (mean ± std. dev. of 100 runs, 5000 loops each)\n",
      "195 ns ± 59 ns per loop (mean ± std. dev. of 100 runs, 5000 loops each)\n",
      "159 ns ± 32 ns per loop (mean ± std. dev. of 100 runs, 5000 loops each)\n",
      "152 ns ± 37.8 ns per loop (mean ± std. dev. of 100 runs, 5000 loops each)\n",
      "148 ns ± 28.5 ns per loop (mean ± std. dev. of 100 runs, 5000 loops each)\n",
      "200 ns ± 89.7 ns per loop (mean ± std. dev. of 100 runs, 5000 loops each)\n",
      "190 ns ± 63.8 ns per loop (mean ± std. dev. of 100 runs, 5000 loops each)\n",
      "182 ns ± 48.1 ns per loop (mean ± std. dev. of 100 runs, 5000 loops each)\n",
      "192 ns ± 52.7 ns per loop (mean ± std. dev. of 100 runs, 5000 loops each)\n",
      "188 ns ± 58.1 ns per loop (mean ± std. dev. of 100 runs, 5000 loops each)\n",
      "196 ns ± 69.6 ns per loop (mean ± std. dev. of 100 runs, 5000 loops each)\n",
      "235 ns ± 67.4 ns per loop (mean ± std. dev. of 100 runs, 5000 loops each)\n",
      "168 ns ± 60 ns per loop (mean ± std. dev. of 100 runs, 5000 loops each)\n",
      "198 ns ± 45.6 ns per loop (mean ± std. dev. of 100 runs, 5000 loops each)\n",
      "300 ns ± 97.2 ns per loop (mean ± std. dev. of 100 runs, 5000 loops each)\n",
      "218 ns ± 71.7 ns per loop (mean ± std. dev. of 100 runs, 5000 loops each)\n",
      "187 ns ± 54.9 ns per loop (mean ± std. dev. of 100 runs, 5000 loops each)\n",
      "193 ns ± 59.9 ns per loop (mean ± std. dev. of 100 runs, 5000 loops each)\n",
      "216 ns ± 56.5 ns per loop (mean ± std. dev. of 100 runs, 5000 loops each)\n",
      "211 ns ± 52.8 ns per loop (mean ± std. dev. of 100 runs, 5000 loops each)\n",
      "207 ns ± 52 ns per loop (mean ± std. dev. of 100 runs, 5000 loops each)\n",
      "187 ns ± 59.1 ns per loop (mean ± std. dev. of 100 runs, 5000 loops each)\n",
      "252 ns ± 77.5 ns per loop (mean ± std. dev. of 100 runs, 5000 loops each)\n",
      "198 ns ± 66.8 ns per loop (mean ± std. dev. of 100 runs, 5000 loops each)\n",
      "206 ns ± 69.9 ns per loop (mean ± std. dev. of 100 runs, 5000 loops each)\n",
      "216 ns ± 82.3 ns per loop (mean ± std. dev. of 100 runs, 5000 loops each)\n",
      "171 ns ± 43 ns per loop (mean ± std. dev. of 100 runs, 5000 loops each)\n",
      "225 ns ± 92.5 ns per loop (mean ± std. dev. of 100 runs, 5000 loops each)\n",
      "175 ns ± 35.7 ns per loop (mean ± std. dev. of 100 runs, 5000 loops each)\n",
      "216 ns ± 61.4 ns per loop (mean ± std. dev. of 100 runs, 5000 loops each)\n",
      "174 ns ± 43.8 ns per loop (mean ± std. dev. of 100 runs, 5000 loops each)\n",
      "171 ns ± 47.5 ns per loop (mean ± std. dev. of 100 runs, 5000 loops each)\n",
      "165 ns ± 52.7 ns per loop (mean ± std. dev. of 100 runs, 5000 loops each)\n",
      "165 ns ± 41 ns per loop (mean ± std. dev. of 100 runs, 5000 loops each)\n",
      "309 ns ± 146 ns per loop (mean ± std. dev. of 100 runs, 5000 loops each)\n",
      "220 ns ± 121 ns per loop (mean ± std. dev. of 100 runs, 5000 loops each)\n",
      "183 ns ± 66.8 ns per loop (mean ± std. dev. of 100 runs, 5000 loops each)\n",
      "282 ns ± 119 ns per loop (mean ± std. dev. of 100 runs, 5000 loops each)\n",
      "211 ns ± 87.2 ns per loop (mean ± std. dev. of 100 runs, 5000 loops each)\n",
      "176 ns ± 47.6 ns per loop (mean ± std. dev. of 100 runs, 5000 loops each)\n",
      "157 ns ± 35.3 ns per loop (mean ± std. dev. of 100 runs, 5000 loops each)\n",
      "191 ns ± 90.5 ns per loop (mean ± std. dev. of 100 runs, 5000 loops each)\n",
      "198 ns ± 64.5 ns per loop (mean ± std. dev. of 100 runs, 5000 loops each)\n",
      "170 ns ± 60.8 ns per loop (mean ± std. dev. of 100 runs, 5000 loops each)\n",
      "164 ns ± 65 ns per loop (mean ± std. dev. of 100 runs, 5000 loops each)\n",
      "250 ns ± 86.3 ns per loop (mean ± std. dev. of 100 runs, 5000 loops each)\n"
     ]
    },
    {
     "data": {
      "image/png": "[encoded data removed]",
      "text/plain": [
       "<Figure size 1200x800 with 1 Axes>"
      ]
     },
     "metadata": {},
     "output_type": "display_data"
    }
   ],
   "source": [
    "import matplotlib.pyplot as plt\n",
    "%matplotlib inline\n",
    "plt.rcParams['figure.figsize'] = [12, 8]\n",
    "\n",
    "N = 50\n",
    "kk = lambda i: 10**(i+1)+i  # step formula\n",
    "n,x,std = [0]*N,[0]*N,[0]*N # initialize data lists\n",
    "for i in range(N):\n",
    "    k = kk(i)  # input value for testing\n",
    "    n[i] = k.bit_length() # size of problem = bits in number\n",
    "    t = %timeit -n5000 -r100 -o parity(k)\n",
    "    x[i] = t.average\n",
    "    std[i] = t.stdev\n",
    "\n",
    "plt.errorbar(n,x,std)\n",
    "plt.xlabel('number of bits in the input argument')\n",
    "plt.ylabel('run time, sec')\n",
    "plt.show()"
   ]
  },
  {
   "cell_type": "markdown",
   "metadata": {
    "slideshow": {
     "slide_type": "slide"
    }
   },
   "source": [
    "#### Finding max/min of a list\n",
    "\n",
    "Find max or min in an unsorted list of values\n",
    "\n",
    "Algorithm: run through the list once"
   ]
  },
  {
   "cell_type": "code",
   "execution_count": 10,
   "metadata": {
    "hide-output": false,
    "slideshow": {
     "slide_type": "fragment"
    }
   },
   "outputs": [
    {
     "name": "stdout",
     "output_type": "stream",
     "text": [
      "[37.22849337 16.72906804 73.01531603 32.02652757 85.2749484  28.10542546\n",
      " 59.23132018 11.84036966 51.77140068  4.12636164]\n",
      "max=85.274948\n"
     ]
    }
   ],
   "source": [
    "import numpy as np\n",
    "\n",
    "N = 10\n",
    "# generate uniformly distributed values between given bounds\n",
    "x = np.random.uniform(low=0.0, high=100.0, size=N)\n",
    "print(x)\n",
    "print(\"max=%f\"%maximum_from_list(x))"
   ]
  },
  {
   "cell_type": "code",
   "execution_count": 11,
   "metadata": {
    "hide-output": false,
    "slideshow": {
     "slide_type": "slide"
    }
   },
   "outputs": [
    {
     "name": "stdout",
     "output_type": "stream",
     "text": [
      "838 ns ± 277 ns per loop (mean ± std. dev. of 100 runs, 1000 loops each)\n",
      "1.09 µs ± 296 ns per loop (mean ± std. dev. of 100 runs, 1000 loops each)\n",
      "1.32 µs ± 489 ns per loop (mean ± std. dev. of 100 runs, 1000 loops each)\n",
      "1.26 µs ± 330 ns per loop (mean ± std. dev. of 100 runs, 1000 loops each)\n",
      "1.68 µs ± 626 ns per loop (mean ± std. dev. of 100 runs, 1000 loops each)\n",
      "1.51 µs ± 517 ns per loop (mean ± std. dev. of 100 runs, 1000 loops each)\n",
      "1.9 µs ± 618 ns per loop (mean ± std. dev. of 100 runs, 1000 loops each)\n",
      "2.24 µs ± 806 ns per loop (mean ± std. dev. of 100 runs, 1000 loops each)\n",
      "The slowest run took 4.85 times longer than the fastest. This could mean that an intermediate result is being cached.\n",
      "2.68 µs ± 1.08 µs per loop (mean ± std. dev. of 100 runs, 1000 loops each)\n",
      "The slowest run took 6.16 times longer than the fastest. This could mean that an intermediate result is being cached.\n",
      "3.53 µs ± 1.62 µs per loop (mean ± std. dev. of 100 runs, 1000 loops each)\n",
      "2.83 µs ± 974 ns per loop (mean ± std. dev. of 100 runs, 1000 loops each)\n",
      "2.38 µs ± 867 ns per loop (mean ± std. dev. of 100 runs, 1000 loops each)\n",
      "The slowest run took 4.53 times longer than the fastest. This could mean that an intermediate result is being cached.\n",
      "2.96 µs ± 1.04 µs per loop (mean ± std. dev. of 100 runs, 1000 loops each)\n",
      "The slowest run took 6.72 times longer than the fastest. This could mean that an intermediate result is being cached.\n",
      "4.32 µs ± 2.21 µs per loop (mean ± std. dev. of 100 runs, 1000 loops each)\n",
      "2.99 µs ± 992 ns per loop (mean ± std. dev. of 100 runs, 1000 loops each)\n",
      "The slowest run took 4.83 times longer than the fastest. This could mean that an intermediate result is being cached.\n",
      "3.65 µs ± 1.45 µs per loop (mean ± std. dev. of 100 runs, 1000 loops each)\n",
      "The slowest run took 6.42 times longer than the fastest. This could mean that an intermediate result is being cached.\n",
      "4.75 µs ± 2.22 µs per loop (mean ± std. dev. of 100 runs, 1000 loops each)\n",
      "The slowest run took 4.24 times longer than the fastest. This could mean that an intermediate result is being cached.\n",
      "3.99 µs ± 1.82 µs per loop (mean ± std. dev. of 100 runs, 1000 loops each)\n",
      "The slowest run took 6.93 times longer than the fastest. This could mean that an intermediate result is being cached.\n",
      "3.62 µs ± 1.82 µs per loop (mean ± std. dev. of 100 runs, 1000 loops each)\n",
      "3.26 µs ± 907 ns per loop (mean ± std. dev. of 100 runs, 1000 loops each)\n",
      "The slowest run took 4.03 times longer than the fastest. This could mean that an intermediate result is being cached.\n",
      "4.54 µs ± 1.98 µs per loop (mean ± std. dev. of 100 runs, 1000 loops each)\n",
      "The slowest run took 7.79 times longer than the fastest. This could mean that an intermediate result is being cached.\n",
      "4.61 µs ± 2.58 µs per loop (mean ± std. dev. of 100 runs, 1000 loops each)\n",
      "The slowest run took 6.59 times longer than the fastest. This could mean that an intermediate result is being cached.\n",
      "5.82 µs ± 3.02 µs per loop (mean ± std. dev. of 100 runs, 1000 loops each)\n",
      "4.55 µs ± 1.45 µs per loop (mean ± std. dev. of 100 runs, 1000 loops each)\n",
      "4.97 µs ± 2.01 µs per loop (mean ± std. dev. of 100 runs, 1000 loops each)\n",
      "The slowest run took 6.55 times longer than the fastest. This could mean that an intermediate result is being cached.\n",
      "6.69 µs ± 3.46 µs per loop (mean ± std. dev. of 100 runs, 1000 loops each)\n",
      "The slowest run took 4.14 times longer than the fastest. This could mean that an intermediate result is being cached.\n",
      "5.36 µs ± 2.09 µs per loop (mean ± std. dev. of 100 runs, 1000 loops each)\n",
      "5.37 µs ± 2.05 µs per loop (mean ± std. dev. of 100 runs, 1000 loops each)\n",
      "The slowest run took 5.02 times longer than the fastest. This could mean that an intermediate result is being cached.\n",
      "5.4 µs ± 2.52 µs per loop (mean ± std. dev. of 100 runs, 1000 loops each)\n",
      "4.79 µs ± 1.87 µs per loop (mean ± std. dev. of 100 runs, 1000 loops each)\n",
      "The slowest run took 4.39 times longer than the fastest. This could mean that an intermediate result is being cached.\n",
      "5.37 µs ± 2.09 µs per loop (mean ± std. dev. of 100 runs, 1000 loops each)\n",
      "The slowest run took 4.92 times longer than the fastest. This could mean that an intermediate result is being cached.\n",
      "6.17 µs ± 2.59 µs per loop (mean ± std. dev. of 100 runs, 1000 loops each)\n",
      "The slowest run took 4.62 times longer than the fastest. This could mean that an intermediate result is being cached.\n",
      "6.77 µs ± 2.63 µs per loop (mean ± std. dev. of 100 runs, 1000 loops each)\n",
      "5.3 µs ± 1.54 µs per loop (mean ± std. dev. of 100 runs, 1000 loops each)\n",
      "5.67 µs ± 2.12 µs per loop (mean ± std. dev. of 100 runs, 1000 loops each)\n",
      "5.67 µs ± 1.73 µs per loop (mean ± std. dev. of 100 runs, 1000 loops each)\n",
      "6.71 µs ± 2.41 µs per loop (mean ± std. dev. of 100 runs, 1000 loops each)\n",
      "6.74 µs ± 2.18 µs per loop (mean ± std. dev. of 100 runs, 1000 loops each)\n",
      "The slowest run took 4.39 times longer than the fastest. This could mean that an intermediate result is being cached.\n",
      "7.22 µs ± 2.58 µs per loop (mean ± std. dev. of 100 runs, 1000 loops each)\n",
      "6.07 µs ± 1.85 µs per loop (mean ± std. dev. of 100 runs, 1000 loops each)\n",
      "5.78 µs ± 1.87 µs per loop (mean ± std. dev. of 100 runs, 1000 loops each)\n",
      "7.12 µs ± 2.29 µs per loop (mean ± std. dev. of 100 runs, 1000 loops each)\n",
      "The slowest run took 4.80 times longer than the fastest. This could mean that an intermediate result is being cached.\n",
      "7.53 µs ± 3.17 µs per loop (mean ± std. dev. of 100 runs, 1000 loops each)\n",
      "6.6 µs ± 2.34 µs per loop (mean ± std. dev. of 100 runs, 1000 loops each)\n",
      "7.42 µs ± 2.69 µs per loop (mean ± std. dev. of 100 runs, 1000 loops each)\n",
      "7.54 µs ± 2.52 µs per loop (mean ± std. dev. of 100 runs, 1000 loops each)\n",
      "The slowest run took 5.03 times longer than the fastest. This could mean that an intermediate result is being cached.\n",
      "7.33 µs ± 3.16 µs per loop (mean ± std. dev. of 100 runs, 1000 loops each)\n",
      "7.29 µs ± 2.59 µs per loop (mean ± std. dev. of 100 runs, 1000 loops each)\n",
      "6.93 µs ± 2.18 µs per loop (mean ± std. dev. of 100 runs, 1000 loops each)\n",
      "6.74 µs ± 2.03 µs per loop (mean ± std. dev. of 100 runs, 1000 loops each)\n"
     ]
    },
    {
     "data": {
      "image/png": "[encoded data removed]",
      "text/plain": [
       "<Figure size 1200x800 with 1 Axes>"
      ]
     },
     "metadata": {},
     "output_type": "display_data"
    }
   ],
   "source": [
    "N = 50\n",
    "kk = lambda i: 2*i  # step formula\n",
    "n,x,std = [0]*N,[0]*N,[0]*N # initialize data lists\n",
    "for i in range(N):\n",
    "    n[i] = kk(i) # size of the array\n",
    "    vv = np.random.uniform(low=0.0, high=100.0, size=n[i])\n",
    "    t = %timeit -n1000 -r100 -o maximum_from_list(vv)\n",
    "    x[i] = t.average\n",
    "    std[i] = t.stdev\n",
    "\n",
    "plt.errorbar(n,x,std)\n",
    "plt.xlabel('number of elements in the list')\n",
    "plt.ylabel('run time, sec')\n",
    "plt.show()"
   ]
  },
  {
   "cell_type": "markdown",
   "metadata": {
    "slideshow": {
     "slide_type": "slide"
    }
   },
   "source": [
    "### Binary search\n",
    "\n",
    "Find an element between given boundaries\n",
    "\n",
    "1. Think of number between 1 and 100  \n",
    "1. How many guesses are needed to locate it if the only answers are “below” and “above”?  \n",
    "1. What is the optimal sequece of questions?  "
   ]
  },
  {
   "cell_type": "code",
   "execution_count": 12,
   "metadata": {
    "hide-output": false,
    "slideshow": {
     "slide_type": "slide"
    }
   },
   "outputs": [
    {
     "name": "stdout",
     "output_type": "stream",
     "text": [
      "Index of x[1]=14 in array([ 1, 14, 15, 30, 36, 41, 49, 51, 52, 83]) is 1\n"
     ]
    }
   ],
   "source": [
    "N = 10\n",
    "# random sorted sequence of integers up to 100\n",
    "x = np.random.choice(100,size=N,replace=False)\n",
    "x = np.sort(x)\n",
    "# random choice of one number/index\n",
    "k0 = np.random.choice(N,size=1)\n",
    "\n",
    "k1 = binary_search(grid=x,val=x[k0])\n",
    "print(\"Index of x[%d]=%d in %r is %d\"%(k0,x[k0],x,k1))"
   ]
  },
  {
   "cell_type": "code",
   "execution_count": 13,
   "metadata": {
    "hide-output": false,
    "slideshow": {
     "slide_type": "slide"
    }
   },
   "outputs": [
    {
     "name": "stdout",
     "output_type": "stream",
     "text": [
      "113 ms ± 7.38 ms per loop (mean ± std. dev. of 100 runs, 10 loops each)\n"
     ]
    },
    {
     "ename": "KeyboardInterrupt",
     "evalue": "",
     "output_type": "error",
     "traceback": [
      "\u001b[1;31m---------------------------------------------------------------------------\u001b[0m",
      "\u001b[1;31mKeyboardInterrupt\u001b[0m                         Traceback (most recent call last)",
      "\u001b[1;32m~\\AppData\\Local\\Temp\\ipykernel_49236\\895378359.py\u001b[0m in \u001b[0;36m<module>\u001b[1;34m\u001b[0m\n\u001b[0;32m      9\u001b[0m     \u001b[0mn\u001b[0m\u001b[1;33m[\u001b[0m\u001b[0mi\u001b[0m\u001b[1;33m]\u001b[0m \u001b[1;33m=\u001b[0m \u001b[0mkk\u001b[0m\u001b[1;33m(\u001b[0m\u001b[0mi\u001b[0m\u001b[1;33m)\u001b[0m  \u001b[1;31m# number of list elements\u001b[0m\u001b[1;33m\u001b[0m\u001b[1;33m\u001b[0m\u001b[0m\n\u001b[0;32m     10\u001b[0m     \u001b[1;31m# randomize the choice in each run to smooth out simulation error\u001b[0m\u001b[1;33m\u001b[0m\u001b[1;33m\u001b[0m\u001b[0m\n\u001b[1;32m---> 11\u001b[1;33m     \u001b[0mt\u001b[0m \u001b[1;33m=\u001b[0m \u001b[0mget_ipython\u001b[0m\u001b[1;33m(\u001b[0m\u001b[1;33m)\u001b[0m\u001b[1;33m.\u001b[0m\u001b[0mrun_line_magic\u001b[0m\u001b[1;33m(\u001b[0m\u001b[1;34m'timeit'\u001b[0m\u001b[1;33m,\u001b[0m \u001b[1;34m'-n10 -r100 -o binary_search(grid=vv[:n[i]],val=vv[np.random.choice(n[i],size=1)],delay=50)'\u001b[0m\u001b[1;33m)\u001b[0m\u001b[1;33m\u001b[0m\u001b[1;33m\u001b[0m\u001b[0m\n\u001b[0m\u001b[0;32m     12\u001b[0m     \u001b[0mx\u001b[0m\u001b[1;33m[\u001b[0m\u001b[0mi\u001b[0m\u001b[1;33m]\u001b[0m \u001b[1;33m=\u001b[0m \u001b[0mt\u001b[0m\u001b[1;33m.\u001b[0m\u001b[0maverage\u001b[0m\u001b[1;33m\u001b[0m\u001b[1;33m\u001b[0m\u001b[0m\n\u001b[0;32m     13\u001b[0m     \u001b[0mstd\u001b[0m\u001b[1;33m[\u001b[0m\u001b[0mi\u001b[0m\u001b[1;33m]\u001b[0m \u001b[1;33m=\u001b[0m \u001b[0mt\u001b[0m\u001b[1;33m.\u001b[0m\u001b[0mstdev\u001b[0m\u001b[1;33m\u001b[0m\u001b[1;33m\u001b[0m\u001b[0m\n",
      "\u001b[1;32m~\\anaconda3\\lib\\site-packages\\IPython\\core\\interactiveshell.py\u001b[0m in \u001b[0;36mrun_line_magic\u001b[1;34m(self, magic_name, line, _stack_depth)\u001b[0m\n\u001b[0;32m   2362\u001b[0m                 \u001b[0mkwargs\u001b[0m\u001b[1;33m[\u001b[0m\u001b[1;34m'local_ns'\u001b[0m\u001b[1;33m]\u001b[0m \u001b[1;33m=\u001b[0m \u001b[0mself\u001b[0m\u001b[1;33m.\u001b[0m\u001b[0mget_local_scope\u001b[0m\u001b[1;33m(\u001b[0m\u001b[0mstack_depth\u001b[0m\u001b[1;33m)\u001b[0m\u001b[1;33m\u001b[0m\u001b[1;33m\u001b[0m\u001b[0m\n\u001b[0;32m   2363\u001b[0m             \u001b[1;32mwith\u001b[0m \u001b[0mself\u001b[0m\u001b[1;33m.\u001b[0m\u001b[0mbuiltin_trap\u001b[0m\u001b[1;33m:\u001b[0m\u001b[1;33m\u001b[0m\u001b[1;33m\u001b[0m\u001b[0m\n\u001b[1;32m-> 2364\u001b[1;33m                 \u001b[0mresult\u001b[0m \u001b[1;33m=\u001b[0m \u001b[0mfn\u001b[0m\u001b[1;33m(\u001b[0m\u001b[1;33m*\u001b[0m\u001b[0margs\u001b[0m\u001b[1;33m,\u001b[0m \u001b[1;33m**\u001b[0m\u001b[0mkwargs\u001b[0m\u001b[1;33m)\u001b[0m\u001b[1;33m\u001b[0m\u001b[1;33m\u001b[0m\u001b[0m\n\u001b[0m\u001b[0;32m   2365\u001b[0m             \u001b[1;32mreturn\u001b[0m \u001b[0mresult\u001b[0m\u001b[1;33m\u001b[0m\u001b[1;33m\u001b[0m\u001b[0m\n\u001b[0;32m   2366\u001b[0m \u001b[1;33m\u001b[0m\u001b[0m\n",
      "\u001b[1;32m~\\anaconda3\\lib\\site-packages\\decorator.py\u001b[0m in \u001b[0;36mfun\u001b[1;34m(*args, **kw)\u001b[0m\n\u001b[0;32m    230\u001b[0m             \u001b[1;32mif\u001b[0m \u001b[1;32mnot\u001b[0m \u001b[0mkwsyntax\u001b[0m\u001b[1;33m:\u001b[0m\u001b[1;33m\u001b[0m\u001b[1;33m\u001b[0m\u001b[0m\n\u001b[0;32m    231\u001b[0m                 \u001b[0margs\u001b[0m\u001b[1;33m,\u001b[0m \u001b[0mkw\u001b[0m \u001b[1;33m=\u001b[0m \u001b[0mfix\u001b[0m\u001b[1;33m(\u001b[0m\u001b[0margs\u001b[0m\u001b[1;33m,\u001b[0m \u001b[0mkw\u001b[0m\u001b[1;33m,\u001b[0m \u001b[0msig\u001b[0m\u001b[1;33m)\u001b[0m\u001b[1;33m\u001b[0m\u001b[1;33m\u001b[0m\u001b[0m\n\u001b[1;32m--> 232\u001b[1;33m             \u001b[1;32mreturn\u001b[0m \u001b[0mcaller\u001b[0m\u001b[1;33m(\u001b[0m\u001b[0mfunc\u001b[0m\u001b[1;33m,\u001b[0m \u001b[1;33m*\u001b[0m\u001b[1;33m(\u001b[0m\u001b[0mextras\u001b[0m \u001b[1;33m+\u001b[0m \u001b[0margs\u001b[0m\u001b[1;33m)\u001b[0m\u001b[1;33m,\u001b[0m \u001b[1;33m**\u001b[0m\u001b[0mkw\u001b[0m\u001b[1;33m)\u001b[0m\u001b[1;33m\u001b[0m\u001b[1;33m\u001b[0m\u001b[0m\n\u001b[0m\u001b[0;32m    233\u001b[0m     \u001b[0mfun\u001b[0m\u001b[1;33m.\u001b[0m\u001b[0m__name__\u001b[0m \u001b[1;33m=\u001b[0m \u001b[0mfunc\u001b[0m\u001b[1;33m.\u001b[0m\u001b[0m__name__\u001b[0m\u001b[1;33m\u001b[0m\u001b[1;33m\u001b[0m\u001b[0m\n\u001b[0;32m    234\u001b[0m     \u001b[0mfun\u001b[0m\u001b[1;33m.\u001b[0m\u001b[0m__doc__\u001b[0m \u001b[1;33m=\u001b[0m \u001b[0mfunc\u001b[0m\u001b[1;33m.\u001b[0m\u001b[0m__doc__\u001b[0m\u001b[1;33m\u001b[0m\u001b[1;33m\u001b[0m\u001b[0m\n",
      "\u001b[1;32m~\\anaconda3\\lib\\site-packages\\IPython\\core\\magic.py\u001b[0m in \u001b[0;36m<lambda>\u001b[1;34m(f, *a, **k)\u001b[0m\n\u001b[0;32m    185\u001b[0m     \u001b[1;31m# but it's overkill for just that one bit of state.\u001b[0m\u001b[1;33m\u001b[0m\u001b[1;33m\u001b[0m\u001b[0m\n\u001b[0;32m    186\u001b[0m     \u001b[1;32mdef\u001b[0m \u001b[0mmagic_deco\u001b[0m\u001b[1;33m(\u001b[0m\u001b[0marg\u001b[0m\u001b[1;33m)\u001b[0m\u001b[1;33m:\u001b[0m\u001b[1;33m\u001b[0m\u001b[1;33m\u001b[0m\u001b[0m\n\u001b[1;32m--> 187\u001b[1;33m         \u001b[0mcall\u001b[0m \u001b[1;33m=\u001b[0m \u001b[1;32mlambda\u001b[0m \u001b[0mf\u001b[0m\u001b[1;33m,\u001b[0m \u001b[1;33m*\u001b[0m\u001b[0ma\u001b[0m\u001b[1;33m,\u001b[0m \u001b[1;33m**\u001b[0m\u001b[0mk\u001b[0m\u001b[1;33m:\u001b[0m \u001b[0mf\u001b[0m\u001b[1;33m(\u001b[0m\u001b[1;33m*\u001b[0m\u001b[0ma\u001b[0m\u001b[1;33m,\u001b[0m \u001b[1;33m**\u001b[0m\u001b[0mk\u001b[0m\u001b[1;33m)\u001b[0m\u001b[1;33m\u001b[0m\u001b[1;33m\u001b[0m\u001b[0m\n\u001b[0m\u001b[0;32m    188\u001b[0m \u001b[1;33m\u001b[0m\u001b[0m\n\u001b[0;32m    189\u001b[0m         \u001b[1;32mif\u001b[0m \u001b[0mcallable\u001b[0m\u001b[1;33m(\u001b[0m\u001b[0marg\u001b[0m\u001b[1;33m)\u001b[0m\u001b[1;33m:\u001b[0m\u001b[1;33m\u001b[0m\u001b[1;33m\u001b[0m\u001b[0m\n",
      "\u001b[1;32m~\\anaconda3\\lib\\site-packages\\IPython\\core\\magics\\execution.py\u001b[0m in \u001b[0;36mtimeit\u001b[1;34m(self, line, cell, local_ns)\u001b[0m\n\u001b[0;32m   1182\u001b[0m                     \u001b[1;32mbreak\u001b[0m\u001b[1;33m\u001b[0m\u001b[1;33m\u001b[0m\u001b[0m\n\u001b[0;32m   1183\u001b[0m \u001b[1;33m\u001b[0m\u001b[0m\n\u001b[1;32m-> 1184\u001b[1;33m         \u001b[0mall_runs\u001b[0m \u001b[1;33m=\u001b[0m \u001b[0mtimer\u001b[0m\u001b[1;33m.\u001b[0m\u001b[0mrepeat\u001b[0m\u001b[1;33m(\u001b[0m\u001b[0mrepeat\u001b[0m\u001b[1;33m,\u001b[0m \u001b[0mnumber\u001b[0m\u001b[1;33m)\u001b[0m\u001b[1;33m\u001b[0m\u001b[1;33m\u001b[0m\u001b[0m\n\u001b[0m\u001b[0;32m   1185\u001b[0m         \u001b[0mbest\u001b[0m \u001b[1;33m=\u001b[0m \u001b[0mmin\u001b[0m\u001b[1;33m(\u001b[0m\u001b[0mall_runs\u001b[0m\u001b[1;33m)\u001b[0m \u001b[1;33m/\u001b[0m \u001b[0mnumber\u001b[0m\u001b[1;33m\u001b[0m\u001b[1;33m\u001b[0m\u001b[0m\n\u001b[0;32m   1186\u001b[0m         \u001b[0mworst\u001b[0m \u001b[1;33m=\u001b[0m \u001b[0mmax\u001b[0m\u001b[1;33m(\u001b[0m\u001b[0mall_runs\u001b[0m\u001b[1;33m)\u001b[0m \u001b[1;33m/\u001b[0m \u001b[0mnumber\u001b[0m\u001b[1;33m\u001b[0m\u001b[1;33m\u001b[0m\u001b[0m\n",
      "\u001b[1;32m~\\anaconda3\\lib\\timeit.py\u001b[0m in \u001b[0;36mrepeat\u001b[1;34m(self, repeat, number)\u001b[0m\n\u001b[0;32m    203\u001b[0m         \u001b[0mr\u001b[0m \u001b[1;33m=\u001b[0m \u001b[1;33m[\u001b[0m\u001b[1;33m]\u001b[0m\u001b[1;33m\u001b[0m\u001b[1;33m\u001b[0m\u001b[0m\n\u001b[0;32m    204\u001b[0m         \u001b[1;32mfor\u001b[0m \u001b[0mi\u001b[0m \u001b[1;32min\u001b[0m \u001b[0mrange\u001b[0m\u001b[1;33m(\u001b[0m\u001b[0mrepeat\u001b[0m\u001b[1;33m)\u001b[0m\u001b[1;33m:\u001b[0m\u001b[1;33m\u001b[0m\u001b[1;33m\u001b[0m\u001b[0m\n\u001b[1;32m--> 205\u001b[1;33m             \u001b[0mt\u001b[0m \u001b[1;33m=\u001b[0m \u001b[0mself\u001b[0m\u001b[1;33m.\u001b[0m\u001b[0mtimeit\u001b[0m\u001b[1;33m(\u001b[0m\u001b[0mnumber\u001b[0m\u001b[1;33m)\u001b[0m\u001b[1;33m\u001b[0m\u001b[1;33m\u001b[0m\u001b[0m\n\u001b[0m\u001b[0;32m    206\u001b[0m             \u001b[0mr\u001b[0m\u001b[1;33m.\u001b[0m\u001b[0mappend\u001b[0m\u001b[1;33m(\u001b[0m\u001b[0mt\u001b[0m\u001b[1;33m)\u001b[0m\u001b[1;33m\u001b[0m\u001b[1;33m\u001b[0m\u001b[0m\n\u001b[0;32m    207\u001b[0m         \u001b[1;32mreturn\u001b[0m \u001b[0mr\u001b[0m\u001b[1;33m\u001b[0m\u001b[1;33m\u001b[0m\u001b[0m\n",
      "\u001b[1;32m~\\anaconda3\\lib\\site-packages\\IPython\\core\\magics\\execution.py\u001b[0m in \u001b[0;36mtimeit\u001b[1;34m(self, number)\u001b[0m\n\u001b[0;32m    167\u001b[0m         \u001b[0mgc\u001b[0m\u001b[1;33m.\u001b[0m\u001b[0mdisable\u001b[0m\u001b[1;33m(\u001b[0m\u001b[1;33m)\u001b[0m\u001b[1;33m\u001b[0m\u001b[1;33m\u001b[0m\u001b[0m\n\u001b[0;32m    168\u001b[0m         \u001b[1;32mtry\u001b[0m\u001b[1;33m:\u001b[0m\u001b[1;33m\u001b[0m\u001b[1;33m\u001b[0m\u001b[0m\n\u001b[1;32m--> 169\u001b[1;33m             \u001b[0mtiming\u001b[0m \u001b[1;33m=\u001b[0m \u001b[0mself\u001b[0m\u001b[1;33m.\u001b[0m\u001b[0minner\u001b[0m\u001b[1;33m(\u001b[0m\u001b[0mit\u001b[0m\u001b[1;33m,\u001b[0m \u001b[0mself\u001b[0m\u001b[1;33m.\u001b[0m\u001b[0mtimer\u001b[0m\u001b[1;33m)\u001b[0m\u001b[1;33m\u001b[0m\u001b[1;33m\u001b[0m\u001b[0m\n\u001b[0m\u001b[0;32m    170\u001b[0m         \u001b[1;32mfinally\u001b[0m\u001b[1;33m:\u001b[0m\u001b[1;33m\u001b[0m\u001b[1;33m\u001b[0m\u001b[0m\n\u001b[0;32m    171\u001b[0m             \u001b[1;32mif\u001b[0m \u001b[0mgcold\u001b[0m\u001b[1;33m:\u001b[0m\u001b[1;33m\u001b[0m\u001b[1;33m\u001b[0m\u001b[0m\n",
      "\u001b[1;32m<magic-timeit>\u001b[0m in \u001b[0;36minner\u001b[1;34m(_it, _timer)\u001b[0m\n",
      "\u001b[1;32m~\\Documents\\GitHub\\lectures-2021-s2\\algorithm_examples.py\u001b[0m in \u001b[0;36mbinary_search\u001b[1;34m(grid, val, delay)\u001b[0m\n\u001b[0;32m     33\u001b[0m             \u001b[0mi2\u001b[0m\u001b[1;33m=\u001b[0m\u001b[0mj\u001b[0m\u001b[1;33m\u001b[0m\u001b[1;33m\u001b[0m\u001b[0m\n\u001b[0;32m     34\u001b[0m         \u001b[0mj\u001b[0m\u001b[1;33m=\u001b[0m\u001b[1;33m(\u001b[0m\u001b[0mi1\u001b[0m\u001b[1;33m+\u001b[0m\u001b[0mi2\u001b[0m\u001b[1;33m)\u001b[0m\u001b[1;33m//\u001b[0m\u001b[1;36m2\u001b[0m  \u001b[1;31m# divide in half\u001b[0m\u001b[1;33m\u001b[0m\u001b[1;33m\u001b[0m\u001b[0m\n\u001b[1;32m---> 35\u001b[1;33m         \u001b[0mtime\u001b[0m\u001b[1;33m.\u001b[0m\u001b[0msleep\u001b[0m\u001b[1;33m(\u001b[0m\u001b[0mdelay\u001b[0m\u001b[1;33m*\u001b[0m\u001b[1;36m1e-6\u001b[0m\u001b[1;33m)\u001b[0m  \u001b[1;31m# micro-sec to seconds\u001b[0m\u001b[1;33m\u001b[0m\u001b[1;33m\u001b[0m\u001b[0m\n\u001b[0m\u001b[0;32m     36\u001b[0m     \u001b[1;32mreturn\u001b[0m \u001b[0mj\u001b[0m\u001b[1;33m\u001b[0m\u001b[1;33m\u001b[0m\u001b[0m\n\u001b[0;32m     37\u001b[0m \u001b[1;33m\u001b[0m\u001b[0m\n",
      "\u001b[1;31mKeyboardInterrupt\u001b[0m: "
     ]
    }
   ],
   "source": [
    "N = 50  # number of points\n",
    "kk = lambda i: 100+(i+1)*500  # step formula\n",
    "# precompute the sorted sequence of integers of max length\n",
    "vv = np.random.choice(10*kk(N),size=kk(N),replace=False)\n",
    "vv = np.sort(vv)\n",
    "\n",
    "n,x,std = [0]*N,[0]*N,[0]*N   # initialize lists\n",
    "for i in range(N):\n",
    "    n[i] = kk(i)  # number of list elements\n",
    "    # randomize the choice in each run to smooth out simulation error\n",
    "    t = %timeit -n10 -r100 -o binary_search(grid=vv[:n[i]],val=vv[np.random.choice(n[i],size=1)],delay=50)\n",
    "    x[i] = t.average\n",
    "    std[i] = t.stdev\n",
    "\n",
    "plt.errorbar(n,x,std)\n",
    "plt.xlabel('number of elements in the list')\n",
    "plt.ylabel('run time, sec')\n",
    "plt.show()\n",
    "\n",
    "plt.errorbar(n,x,std)\n",
    "plt.xscale('log')\n",
    "plt.xlabel('log(number of elements in the list)')\n",
    "plt.ylabel('run time, sec')\n",
    "plt.show()"
   ]
  },
  {
   "cell_type": "markdown",
   "metadata": {
    "slideshow": {
     "slide_type": "slide"
    }
   },
   "source": [
    "#### Binary tree and divide-and-conquer algorithms\n",
    "\n",
    "<img src=\"_static/img/binary.png\" style=\"width:600px;\">"
   ]
  },
  {
   "cell_type": "markdown",
   "metadata": {
    "slideshow": {
     "slide_type": "slide"
    }
   },
   "source": [
    "### Big-O notation\n",
    "\n",
    "Useful way to label the complexity of an algorithm, where $ n $ is the size of the input or other dimension of the problem\n",
    "\n",
    "$$\n",
    "f(n)=\\mathcal{O}\\big(g(n)\\big) \\Leftrightarrow\n",
    "$$\n",
    "\n",
    "$$\n",
    "\\exists M>0 \\text{ and } N \\text{ such than } |f(n)| < M |g(n)|  \\text{ for all } n>N,\n",
    "$$\n",
    "\n",
    "Thus, functions $ f(n) $ and $ g(n) $ grow on the same *order*"
   ]
  },
  {
   "cell_type": "markdown",
   "metadata": {
    "slideshow": {
     "slide_type": "slide"
    }
   },
   "source": [
    "### Focus on the worst case\n",
    "\n",
    "In measuring solution time we may distinguish performance in\n",
    "\n",
    "- best (easiest to solve) case  \n",
    "- average case  \n",
    "- worst case ($ \\leftarrow $ the focus of the theory!)  \n",
    "\n",
    "\n",
    "Constants and lower terms are ignored because we are only interested in *order* or growth"
   ]
  },
  {
   "cell_type": "markdown",
   "metadata": {
    "slideshow": {
     "slide_type": "slide"
    }
   },
   "source": [
    "### Classes of algorithm complexity\n",
    "\n",
    "- $ \\mathcal{O}(1) $ constant time  \n",
    "- $ \\mathcal{O}(\\log_{2}(n)) $ logarithmic time  \n",
    "- $ \\mathcal{O}(n) $ linear time  \n",
    "- $ \\mathcal{O}(n \\log_{2}(n)) $ quasi-linear time  \n",
    "- $ \\mathcal{O}(n^{k}), k>1 $ quadratic, cubic, etc. **polinomial** time\n",
    "  $ \\uparrow $ **Tractable**  \n",
    "- $ \\mathcal{O}(2^{n}) $ exponential time $ \\downarrow $\n",
    "  **Curse of dimensionality**  \n",
    "- $ \\mathcal{O}(n!) $ factorial time  "
   ]
  },
  {
   "cell_type": "markdown",
   "metadata": {
    "slideshow": {
     "slide_type": "slide"
    }
   },
   "source": [
    "#### Classes of algorithm complexity\n",
    "\n",
    "<img src=\"_static/img/bigO.png\" style=\"width:600px;\">"
   ]
  },
  {
   "cell_type": "markdown",
   "metadata": {
    "slideshow": {
     "slide_type": "slide"
    }
   },
   "source": [
    "#### How many operations as function of input size?\n",
    "\n",
    "- Parity: Just need to check the lowest bit, does not depend on input size $ \\Rightarrow \\mathcal{O}(1) $  \n",
    "- Maximum element: Need to loop through elements once: $ \\Rightarrow \\mathcal{O}(n) $  \n",
    "- Binary search: Divide the problem in 2 each step $ \\Rightarrow \\mathcal{O}(\\log(n)) $  \n",
    "- Examples of $ \\mathcal{O}(2^n) $ or more?  "
   ]
  },
  {
   "cell_type": "markdown",
   "metadata": {
    "slideshow": {
     "slide_type": "slide"
    }
   },
   "source": [
    "#### Allocation of discrete good\n",
    "\n",
    "**Problem**\n",
    "\n",
    "Maximize welfare $ W(x_1,x_2,\\dots,x_n) $ subject to\n",
    "$ \\sum_{i=1}^{n}x_i = A $ where $ A $ is *discrete* good that is\n",
    "only divisible in steps of $ \\Lambda $.\n",
    "\n",
    "Let $ M=A/\\Lambda \\in \\mathbb{N} $. Let\n",
    "$ p_i \\in \\{0,1,\\dots,M\\} $ such that $ \\sum_{i=1}^{n}p_i = M $.\n",
    "\n",
    "Then the problem is equivalent to maximize\n",
    "$ W(\\Lambda p_1,\\Lambda p_2,\\dots,\\Lambda p_n) $ subject to above.\n",
    "\n",
    "$ (p_1,p_2,\\dots,p_n) $ is **composition** of number $ M $ into\n",
    "$ n $ parts."
   ]
  },
  {
   "cell_type": "code",
   "execution_count": 14,
   "metadata": {
    "hide-output": false,
    "slideshow": {
     "slide_type": "slide"
    }
   },
   "outputs": [
    {
     "name": "stdout",
     "output_type": "stream",
     "text": [
      "Total number of compositions is 165\n",
      "  0: [0, 0, 0, 8]\n",
      "  1: [0, 0, 1, 7]\n",
      "  2: [0, 0, 2, 6]\n",
      "  3: [0, 0, 3, 5]\n",
      "  4: [0, 0, 4, 4]\n",
      "  5: [0, 0, 5, 3]\n",
      "  6: [0, 0, 6, 2]\n",
      "  7: [0, 0, 7, 1]\n",
      "  8: [0, 0, 8, 0]\n",
      "  9: [0, 1, 0, 7]\n",
      " 10: [0, 1, 1, 6]\n",
      " 11: [0, 1, 2, 5]\n",
      " 12: [0, 1, 3, 4]\n",
      " 13: [0, 1, 4, 3]\n",
      " 14: [0, 1, 5, 2]\n",
      " 15: [0, 1, 6, 1]\n",
      " 16: [0, 1, 7, 0]\n",
      " 17: [0, 2, 0, 6]\n",
      " 18: [0, 2, 1, 5]\n",
      " 19: [0, 2, 2, 4]\n",
      " 20: [0, 2, 3, 3]\n",
      " 21: [0, 2, 4, 2]\n",
      " 22: [0, 2, 5, 1]\n",
      " 23: [0, 2, 6, 0]\n",
      " 24: [0, 3, 0, 5]\n",
      " 25: [0, 3, 1, 4]\n",
      " 26: [0, 3, 2, 3]\n",
      " 27: [0, 3, 3, 2]\n",
      " 28: [0, 3, 4, 1]\n",
      " 29: [0, 3, 5, 0]\n",
      " 30: [0, 4, 0, 4]\n",
      " 31: [0, 4, 1, 3]\n",
      " 32: [0, 4, 2, 2]\n",
      " 33: [0, 4, 3, 1]\n",
      " 34: [0, 4, 4, 0]\n",
      " 35: [0, 5, 0, 3]\n",
      " 36: [0, 5, 1, 2]\n",
      " 37: [0, 5, 2, 1]\n",
      " 38: [0, 5, 3, 0]\n",
      " 39: [0, 6, 0, 2]\n",
      " 40: [0, 6, 1, 1]\n",
      " 41: [0, 6, 2, 0]\n",
      " 42: [0, 7, 0, 1]\n",
      " 43: [0, 7, 1, 0]\n",
      " 44: [0, 8, 0, 0]\n",
      " 45: [1, 0, 0, 7]\n",
      " 46: [1, 0, 1, 6]\n",
      " 47: [1, 0, 2, 5]\n",
      " 48: [1, 0, 3, 4]\n",
      " 49: [1, 0, 4, 3]\n",
      " 50: [1, 0, 5, 2]\n",
      " 51: [1, 0, 6, 1]\n",
      " 52: [1, 0, 7, 0]\n",
      " 53: [1, 1, 0, 6]\n",
      " 54: [1, 1, 1, 5]\n",
      " 55: [1, 1, 2, 4]\n",
      " 56: [1, 1, 3, 3]\n",
      " 57: [1, 1, 4, 2]\n",
      " 58: [1, 1, 5, 1]\n",
      " 59: [1, 1, 6, 0]\n",
      " 60: [1, 2, 0, 5]\n",
      " 61: [1, 2, 1, 4]\n",
      " 62: [1, 2, 2, 3]\n",
      " 63: [1, 2, 3, 2]\n",
      " 64: [1, 2, 4, 1]\n",
      " 65: [1, 2, 5, 0]\n",
      " 66: [1, 3, 0, 4]\n",
      " 67: [1, 3, 1, 3]\n",
      " 68: [1, 3, 2, 2]\n",
      " 69: [1, 3, 3, 1]\n",
      " 70: [1, 3, 4, 0]\n",
      " 71: [1, 4, 0, 3]\n",
      " 72: [1, 4, 1, 2]\n",
      " 73: [1, 4, 2, 1]\n",
      " 74: [1, 4, 3, 0]\n",
      " 75: [1, 5, 0, 2]\n",
      " 76: [1, 5, 1, 1]\n",
      " 77: [1, 5, 2, 0]\n",
      " 78: [1, 6, 0, 1]\n",
      " 79: [1, 6, 1, 0]\n",
      " 80: [1, 7, 0, 0]\n",
      " 81: [2, 0, 0, 6]\n",
      " 82: [2, 0, 1, 5]\n",
      " 83: [2, 0, 2, 4]\n",
      " 84: [2, 0, 3, 3]\n",
      " 85: [2, 0, 4, 2]\n",
      " 86: [2, 0, 5, 1]\n",
      " 87: [2, 0, 6, 0]\n",
      " 88: [2, 1, 0, 5]\n",
      " 89: [2, 1, 1, 4]\n",
      " 90: [2, 1, 2, 3]\n",
      " 91: [2, 1, 3, 2]\n",
      " 92: [2, 1, 4, 1]\n",
      " 93: [2, 1, 5, 0]\n",
      " 94: [2, 2, 0, 4]\n",
      " 95: [2, 2, 1, 3]\n",
      " 96: [2, 2, 2, 2]\n",
      " 97: [2, 2, 3, 1]\n",
      " 98: [2, 2, 4, 0]\n",
      " 99: [2, 3, 0, 3]\n",
      "100: [2, 3, 1, 2]\n",
      "101: [2, 3, 2, 1]\n",
      "102: [2, 3, 3, 0]\n",
      "103: [2, 4, 0, 2]\n",
      "104: [2, 4, 1, 1]\n",
      "105: [2, 4, 2, 0]\n",
      "106: [2, 5, 0, 1]\n",
      "107: [2, 5, 1, 0]\n",
      "108: [2, 6, 0, 0]\n",
      "109: [3, 0, 0, 5]\n",
      "110: [3, 0, 1, 4]\n",
      "111: [3, 0, 2, 3]\n",
      "112: [3, 0, 3, 2]\n",
      "113: [3, 0, 4, 1]\n",
      "114: [3, 0, 5, 0]\n",
      "115: [3, 1, 0, 4]\n",
      "116: [3, 1, 1, 3]\n",
      "117: [3, 1, 2, 2]\n",
      "118: [3, 1, 3, 1]\n",
      "119: [3, 1, 4, 0]\n",
      "120: [3, 2, 0, 3]\n",
      "121: [3, 2, 1, 2]\n",
      "122: [3, 2, 2, 1]\n",
      "123: [3, 2, 3, 0]\n",
      "124: [3, 3, 0, 2]\n",
      "125: [3, 3, 1, 1]\n",
      "126: [3, 3, 2, 0]\n",
      "127: [3, 4, 0, 1]\n",
      "128: [3, 4, 1, 0]\n",
      "129: [3, 5, 0, 0]\n",
      "130: [4, 0, 0, 4]\n",
      "131: [4, 0, 1, 3]\n",
      "132: [4, 0, 2, 2]\n",
      "133: [4, 0, 3, 1]\n",
      "134: [4, 0, 4, 0]\n",
      "135: [4, 1, 0, 3]\n",
      "136: [4, 1, 1, 2]\n",
      "137: [4, 1, 2, 1]\n",
      "138: [4, 1, 3, 0]\n",
      "139: [4, 2, 0, 2]\n",
      "140: [4, 2, 1, 1]\n",
      "141: [4, 2, 2, 0]\n",
      "142: [4, 3, 0, 1]\n",
      "143: [4, 3, 1, 0]\n",
      "144: [4, 4, 0, 0]\n",
      "145: [5, 0, 0, 3]\n",
      "146: [5, 0, 1, 2]\n",
      "147: [5, 0, 2, 1]\n",
      "148: [5, 0, 3, 0]\n",
      "149: [5, 1, 0, 2]\n",
      "150: [5, 1, 1, 1]\n",
      "151: [5, 1, 2, 0]\n",
      "152: [5, 2, 0, 1]\n",
      "153: [5, 2, 1, 0]\n",
      "154: [5, 3, 0, 0]\n",
      "155: [6, 0, 0, 2]\n",
      "156: [6, 0, 1, 1]\n",
      "157: [6, 0, 2, 0]\n",
      "158: [6, 1, 0, 1]\n",
      "159: [6, 1, 1, 0]\n",
      "160: [6, 2, 0, 0]\n",
      "161: [7, 0, 0, 1]\n",
      "162: [7, 0, 1, 0]\n",
      "163: [7, 1, 0, 0]\n",
      "164: [8, 0, 0, 0]\n"
     ]
    }
   ],
   "source": [
    "import scipy.special\n",
    "n, M = 4, 8\n",
    "total = scipy.special.comb(M+n-1,n-1) # M+n-1 choose n-1\n",
    "print(\"Total number of compositions is %d\"%total)\n",
    "\n",
    "for i,k in enumerate(compositions(M,n)):\n",
    "    print('%3d'%i,end=\": \")\n",
    "    print(k)"
   ]
  },
  {
   "cell_type": "code",
   "execution_count": 15,
   "metadata": {
    "hide-output": false,
    "slideshow": {
     "slide_type": "slide"
    }
   },
   "outputs": [
    {
     "name": "stdout",
     "output_type": "stream",
     "text": [
      "6.21 µs ± 468 ns per loop (mean ± std. dev. of 10 runs, 2 loops each)\n",
      "71.2 µs ± 7 µs per loop (mean ± std. dev. of 10 runs, 2 loops each)\n",
      "762 µs ± 221 µs per loop (mean ± std. dev. of 10 runs, 2 loops each)\n",
      "4.76 ms ± 850 µs per loop (mean ± std. dev. of 10 runs, 2 loops each)\n",
      "16.7 ms ± 2.82 ms per loop (mean ± std. dev. of 10 runs, 2 loops each)\n",
      "78.5 ms ± 5.87 ms per loop (mean ± std. dev. of 10 runs, 2 loops each)\n",
      "326 ms ± 35 ms per loop (mean ± std. dev. of 10 runs, 2 loops each)\n",
      "1.14 s ± 37.4 ms per loop (mean ± std. dev. of 10 runs, 2 loops each)\n",
      "3.77 s ± 173 ms per loop (mean ± std. dev. of 10 runs, 2 loops each)\n"
     ]
    },
    {
     "ename": "KeyboardInterrupt",
     "evalue": "",
     "output_type": "error",
     "traceback": [
      "\u001b[1;31m---------------------------------------------------------------------------\u001b[0m",
      "\u001b[1;31mKeyboardInterrupt\u001b[0m                         Traceback (most recent call last)",
      "\u001b[1;32m~\\AppData\\Local\\Temp\\ipykernel_49236\\3741861993.py\u001b[0m in \u001b[0;36m<module>\u001b[1;34m\u001b[0m\n\u001b[0;32m      6\u001b[0m \u001b[1;32mfor\u001b[0m \u001b[0mi\u001b[0m \u001b[1;32min\u001b[0m \u001b[0mrange\u001b[0m\u001b[1;33m(\u001b[0m\u001b[0mN\u001b[0m\u001b[1;33m)\u001b[0m\u001b[1;33m:\u001b[0m\u001b[1;33m\u001b[0m\u001b[1;33m\u001b[0m\u001b[0m\n\u001b[0;32m      7\u001b[0m     \u001b[0mn\u001b[0m\u001b[1;33m[\u001b[0m\u001b[0mi\u001b[0m\u001b[1;33m]\u001b[0m \u001b[1;33m=\u001b[0m \u001b[0mkk\u001b[0m\u001b[1;33m(\u001b[0m\u001b[0mi\u001b[0m\u001b[1;33m)\u001b[0m  \u001b[1;31m# number of list elements\u001b[0m\u001b[1;33m\u001b[0m\u001b[1;33m\u001b[0m\u001b[0m\n\u001b[1;32m----> 8\u001b[1;33m     \u001b[0mt\u001b[0m \u001b[1;33m=\u001b[0m \u001b[0mget_ipython\u001b[0m\u001b[1;33m(\u001b[0m\u001b[1;33m)\u001b[0m\u001b[1;33m.\u001b[0m\u001b[0mrun_line_magic\u001b[0m\u001b[1;33m(\u001b[0m\u001b[1;34m'timeit'\u001b[0m\u001b[1;33m,\u001b[0m \u001b[1;34m'-n2 -r10 -o for c in compositions(M,n[i]): pass'\u001b[0m\u001b[1;33m)\u001b[0m\u001b[1;33m\u001b[0m\u001b[1;33m\u001b[0m\u001b[0m\n\u001b[0m\u001b[0;32m      9\u001b[0m     \u001b[0mx\u001b[0m\u001b[1;33m[\u001b[0m\u001b[0mi\u001b[0m\u001b[1;33m]\u001b[0m \u001b[1;33m=\u001b[0m \u001b[0mt\u001b[0m\u001b[1;33m.\u001b[0m\u001b[0maverage\u001b[0m\u001b[1;33m\u001b[0m\u001b[1;33m\u001b[0m\u001b[0m\n\u001b[0;32m     10\u001b[0m     \u001b[0mstd\u001b[0m\u001b[1;33m[\u001b[0m\u001b[0mi\u001b[0m\u001b[1;33m]\u001b[0m \u001b[1;33m=\u001b[0m \u001b[0mt\u001b[0m\u001b[1;33m.\u001b[0m\u001b[0mstdev\u001b[0m\u001b[1;33m\u001b[0m\u001b[1;33m\u001b[0m\u001b[0m\n",
      "\u001b[1;32m~\\anaconda3\\lib\\site-packages\\IPython\\core\\interactiveshell.py\u001b[0m in \u001b[0;36mrun_line_magic\u001b[1;34m(self, magic_name, line, _stack_depth)\u001b[0m\n\u001b[0;32m   2362\u001b[0m                 \u001b[0mkwargs\u001b[0m\u001b[1;33m[\u001b[0m\u001b[1;34m'local_ns'\u001b[0m\u001b[1;33m]\u001b[0m \u001b[1;33m=\u001b[0m \u001b[0mself\u001b[0m\u001b[1;33m.\u001b[0m\u001b[0mget_local_scope\u001b[0m\u001b[1;33m(\u001b[0m\u001b[0mstack_depth\u001b[0m\u001b[1;33m)\u001b[0m\u001b[1;33m\u001b[0m\u001b[1;33m\u001b[0m\u001b[0m\n\u001b[0;32m   2363\u001b[0m             \u001b[1;32mwith\u001b[0m \u001b[0mself\u001b[0m\u001b[1;33m.\u001b[0m\u001b[0mbuiltin_trap\u001b[0m\u001b[1;33m:\u001b[0m\u001b[1;33m\u001b[0m\u001b[1;33m\u001b[0m\u001b[0m\n\u001b[1;32m-> 2364\u001b[1;33m                 \u001b[0mresult\u001b[0m \u001b[1;33m=\u001b[0m \u001b[0mfn\u001b[0m\u001b[1;33m(\u001b[0m\u001b[1;33m*\u001b[0m\u001b[0margs\u001b[0m\u001b[1;33m,\u001b[0m \u001b[1;33m**\u001b[0m\u001b[0mkwargs\u001b[0m\u001b[1;33m)\u001b[0m\u001b[1;33m\u001b[0m\u001b[1;33m\u001b[0m\u001b[0m\n\u001b[0m\u001b[0;32m   2365\u001b[0m             \u001b[1;32mreturn\u001b[0m \u001b[0mresult\u001b[0m\u001b[1;33m\u001b[0m\u001b[1;33m\u001b[0m\u001b[0m\n\u001b[0;32m   2366\u001b[0m \u001b[1;33m\u001b[0m\u001b[0m\n",
      "\u001b[1;32m~\\anaconda3\\lib\\site-packages\\decorator.py\u001b[0m in \u001b[0;36mfun\u001b[1;34m(*args, **kw)\u001b[0m\n\u001b[0;32m    230\u001b[0m             \u001b[1;32mif\u001b[0m \u001b[1;32mnot\u001b[0m \u001b[0mkwsyntax\u001b[0m\u001b[1;33m:\u001b[0m\u001b[1;33m\u001b[0m\u001b[1;33m\u001b[0m\u001b[0m\n\u001b[0;32m    231\u001b[0m                 \u001b[0margs\u001b[0m\u001b[1;33m,\u001b[0m \u001b[0mkw\u001b[0m \u001b[1;33m=\u001b[0m \u001b[0mfix\u001b[0m\u001b[1;33m(\u001b[0m\u001b[0margs\u001b[0m\u001b[1;33m,\u001b[0m \u001b[0mkw\u001b[0m\u001b[1;33m,\u001b[0m \u001b[0msig\u001b[0m\u001b[1;33m)\u001b[0m\u001b[1;33m\u001b[0m\u001b[1;33m\u001b[0m\u001b[0m\n\u001b[1;32m--> 232\u001b[1;33m             \u001b[1;32mreturn\u001b[0m \u001b[0mcaller\u001b[0m\u001b[1;33m(\u001b[0m\u001b[0mfunc\u001b[0m\u001b[1;33m,\u001b[0m \u001b[1;33m*\u001b[0m\u001b[1;33m(\u001b[0m\u001b[0mextras\u001b[0m \u001b[1;33m+\u001b[0m \u001b[0margs\u001b[0m\u001b[1;33m)\u001b[0m\u001b[1;33m,\u001b[0m \u001b[1;33m**\u001b[0m\u001b[0mkw\u001b[0m\u001b[1;33m)\u001b[0m\u001b[1;33m\u001b[0m\u001b[1;33m\u001b[0m\u001b[0m\n\u001b[0m\u001b[0;32m    233\u001b[0m     \u001b[0mfun\u001b[0m\u001b[1;33m.\u001b[0m\u001b[0m__name__\u001b[0m \u001b[1;33m=\u001b[0m \u001b[0mfunc\u001b[0m\u001b[1;33m.\u001b[0m\u001b[0m__name__\u001b[0m\u001b[1;33m\u001b[0m\u001b[1;33m\u001b[0m\u001b[0m\n\u001b[0;32m    234\u001b[0m     \u001b[0mfun\u001b[0m\u001b[1;33m.\u001b[0m\u001b[0m__doc__\u001b[0m \u001b[1;33m=\u001b[0m \u001b[0mfunc\u001b[0m\u001b[1;33m.\u001b[0m\u001b[0m__doc__\u001b[0m\u001b[1;33m\u001b[0m\u001b[1;33m\u001b[0m\u001b[0m\n",
      "\u001b[1;32m~\\anaconda3\\lib\\site-packages\\IPython\\core\\magic.py\u001b[0m in \u001b[0;36m<lambda>\u001b[1;34m(f, *a, **k)\u001b[0m\n\u001b[0;32m    185\u001b[0m     \u001b[1;31m# but it's overkill for just that one bit of state.\u001b[0m\u001b[1;33m\u001b[0m\u001b[1;33m\u001b[0m\u001b[0m\n\u001b[0;32m    186\u001b[0m     \u001b[1;32mdef\u001b[0m \u001b[0mmagic_deco\u001b[0m\u001b[1;33m(\u001b[0m\u001b[0marg\u001b[0m\u001b[1;33m)\u001b[0m\u001b[1;33m:\u001b[0m\u001b[1;33m\u001b[0m\u001b[1;33m\u001b[0m\u001b[0m\n\u001b[1;32m--> 187\u001b[1;33m         \u001b[0mcall\u001b[0m \u001b[1;33m=\u001b[0m \u001b[1;32mlambda\u001b[0m \u001b[0mf\u001b[0m\u001b[1;33m,\u001b[0m \u001b[1;33m*\u001b[0m\u001b[0ma\u001b[0m\u001b[1;33m,\u001b[0m \u001b[1;33m**\u001b[0m\u001b[0mk\u001b[0m\u001b[1;33m:\u001b[0m \u001b[0mf\u001b[0m\u001b[1;33m(\u001b[0m\u001b[1;33m*\u001b[0m\u001b[0ma\u001b[0m\u001b[1;33m,\u001b[0m \u001b[1;33m**\u001b[0m\u001b[0mk\u001b[0m\u001b[1;33m)\u001b[0m\u001b[1;33m\u001b[0m\u001b[1;33m\u001b[0m\u001b[0m\n\u001b[0m\u001b[0;32m    188\u001b[0m \u001b[1;33m\u001b[0m\u001b[0m\n\u001b[0;32m    189\u001b[0m         \u001b[1;32mif\u001b[0m \u001b[0mcallable\u001b[0m\u001b[1;33m(\u001b[0m\u001b[0marg\u001b[0m\u001b[1;33m)\u001b[0m\u001b[1;33m:\u001b[0m\u001b[1;33m\u001b[0m\u001b[1;33m\u001b[0m\u001b[0m\n",
      "\u001b[1;32m~\\anaconda3\\lib\\site-packages\\IPython\\core\\magics\\execution.py\u001b[0m in \u001b[0;36mtimeit\u001b[1;34m(self, line, cell, local_ns)\u001b[0m\n\u001b[0;32m   1182\u001b[0m                     \u001b[1;32mbreak\u001b[0m\u001b[1;33m\u001b[0m\u001b[1;33m\u001b[0m\u001b[0m\n\u001b[0;32m   1183\u001b[0m \u001b[1;33m\u001b[0m\u001b[0m\n\u001b[1;32m-> 1184\u001b[1;33m         \u001b[0mall_runs\u001b[0m \u001b[1;33m=\u001b[0m \u001b[0mtimer\u001b[0m\u001b[1;33m.\u001b[0m\u001b[0mrepeat\u001b[0m\u001b[1;33m(\u001b[0m\u001b[0mrepeat\u001b[0m\u001b[1;33m,\u001b[0m \u001b[0mnumber\u001b[0m\u001b[1;33m)\u001b[0m\u001b[1;33m\u001b[0m\u001b[1;33m\u001b[0m\u001b[0m\n\u001b[0m\u001b[0;32m   1185\u001b[0m         \u001b[0mbest\u001b[0m \u001b[1;33m=\u001b[0m \u001b[0mmin\u001b[0m\u001b[1;33m(\u001b[0m\u001b[0mall_runs\u001b[0m\u001b[1;33m)\u001b[0m \u001b[1;33m/\u001b[0m \u001b[0mnumber\u001b[0m\u001b[1;33m\u001b[0m\u001b[1;33m\u001b[0m\u001b[0m\n\u001b[0;32m   1186\u001b[0m         \u001b[0mworst\u001b[0m \u001b[1;33m=\u001b[0m \u001b[0mmax\u001b[0m\u001b[1;33m(\u001b[0m\u001b[0mall_runs\u001b[0m\u001b[1;33m)\u001b[0m \u001b[1;33m/\u001b[0m \u001b[0mnumber\u001b[0m\u001b[1;33m\u001b[0m\u001b[1;33m\u001b[0m\u001b[0m\n",
      "\u001b[1;32m~\\anaconda3\\lib\\timeit.py\u001b[0m in \u001b[0;36mrepeat\u001b[1;34m(self, repeat, number)\u001b[0m\n\u001b[0;32m    203\u001b[0m         \u001b[0mr\u001b[0m \u001b[1;33m=\u001b[0m \u001b[1;33m[\u001b[0m\u001b[1;33m]\u001b[0m\u001b[1;33m\u001b[0m\u001b[1;33m\u001b[0m\u001b[0m\n\u001b[0;32m    204\u001b[0m         \u001b[1;32mfor\u001b[0m \u001b[0mi\u001b[0m \u001b[1;32min\u001b[0m \u001b[0mrange\u001b[0m\u001b[1;33m(\u001b[0m\u001b[0mrepeat\u001b[0m\u001b[1;33m)\u001b[0m\u001b[1;33m:\u001b[0m\u001b[1;33m\u001b[0m\u001b[1;33m\u001b[0m\u001b[0m\n\u001b[1;32m--> 205\u001b[1;33m             \u001b[0mt\u001b[0m \u001b[1;33m=\u001b[0m \u001b[0mself\u001b[0m\u001b[1;33m.\u001b[0m\u001b[0mtimeit\u001b[0m\u001b[1;33m(\u001b[0m\u001b[0mnumber\u001b[0m\u001b[1;33m)\u001b[0m\u001b[1;33m\u001b[0m\u001b[1;33m\u001b[0m\u001b[0m\n\u001b[0m\u001b[0;32m    206\u001b[0m             \u001b[0mr\u001b[0m\u001b[1;33m.\u001b[0m\u001b[0mappend\u001b[0m\u001b[1;33m(\u001b[0m\u001b[0mt\u001b[0m\u001b[1;33m)\u001b[0m\u001b[1;33m\u001b[0m\u001b[1;33m\u001b[0m\u001b[0m\n\u001b[0;32m    207\u001b[0m         \u001b[1;32mreturn\u001b[0m \u001b[0mr\u001b[0m\u001b[1;33m\u001b[0m\u001b[1;33m\u001b[0m\u001b[0m\n",
      "\u001b[1;32m~\\anaconda3\\lib\\site-packages\\IPython\\core\\magics\\execution.py\u001b[0m in \u001b[0;36mtimeit\u001b[1;34m(self, number)\u001b[0m\n\u001b[0;32m    167\u001b[0m         \u001b[0mgc\u001b[0m\u001b[1;33m.\u001b[0m\u001b[0mdisable\u001b[0m\u001b[1;33m(\u001b[0m\u001b[1;33m)\u001b[0m\u001b[1;33m\u001b[0m\u001b[1;33m\u001b[0m\u001b[0m\n\u001b[0;32m    168\u001b[0m         \u001b[1;32mtry\u001b[0m\u001b[1;33m:\u001b[0m\u001b[1;33m\u001b[0m\u001b[1;33m\u001b[0m\u001b[0m\n\u001b[1;32m--> 169\u001b[1;33m             \u001b[0mtiming\u001b[0m \u001b[1;33m=\u001b[0m \u001b[0mself\u001b[0m\u001b[1;33m.\u001b[0m\u001b[0minner\u001b[0m\u001b[1;33m(\u001b[0m\u001b[0mit\u001b[0m\u001b[1;33m,\u001b[0m \u001b[0mself\u001b[0m\u001b[1;33m.\u001b[0m\u001b[0mtimer\u001b[0m\u001b[1;33m)\u001b[0m\u001b[1;33m\u001b[0m\u001b[1;33m\u001b[0m\u001b[0m\n\u001b[0m\u001b[0;32m    170\u001b[0m         \u001b[1;32mfinally\u001b[0m\u001b[1;33m:\u001b[0m\u001b[1;33m\u001b[0m\u001b[1;33m\u001b[0m\u001b[0m\n\u001b[0;32m    171\u001b[0m             \u001b[1;32mif\u001b[0m \u001b[0mgcold\u001b[0m\u001b[1;33m:\u001b[0m\u001b[1;33m\u001b[0m\u001b[1;33m\u001b[0m\u001b[0m\n",
      "\u001b[1;32m<magic-timeit>\u001b[0m in \u001b[0;36minner\u001b[1;34m(_it, _timer)\u001b[0m\n",
      "\u001b[1;32m~\\Documents\\GitHub\\lectures-2021-s2\\algorithm_examples.py\u001b[0m in \u001b[0;36mcompositions\u001b[1;34m(N, m)\u001b[0m\n\u001b[0;32m     45\u001b[0m     \u001b[1;32mwhile\u001b[0m \u001b[0mcmp\u001b[0m\u001b[1;33m[\u001b[0m\u001b[1;36m0\u001b[0m\u001b[1;33m]\u001b[0m\u001b[1;33m!=\u001b[0m\u001b[0mN\u001b[0m\u001b[1;33m:\u001b[0m\u001b[1;33m\u001b[0m\u001b[1;33m\u001b[0m\u001b[0m\n\u001b[0;32m     46\u001b[0m         \u001b[0mi\u001b[0m\u001b[1;33m=\u001b[0m\u001b[0mm\u001b[0m\u001b[1;33m-\u001b[0m\u001b[1;36m1\u001b[0m\u001b[1;33m\u001b[0m\u001b[1;33m\u001b[0m\u001b[0m\n\u001b[1;32m---> 47\u001b[1;33m         \u001b[1;32mwhile\u001b[0m \u001b[0mcmp\u001b[0m\u001b[1;33m[\u001b[0m\u001b[0mi\u001b[0m\u001b[1;33m]\u001b[0m\u001b[1;33m==\u001b[0m\u001b[1;36m0\u001b[0m\u001b[1;33m:\u001b[0m \u001b[0mi\u001b[0m\u001b[1;33m-=\u001b[0m\u001b[1;36m1\u001b[0m  \u001b[1;31m# find lowest non-zero digit\u001b[0m\u001b[1;33m\u001b[0m\u001b[1;33m\u001b[0m\u001b[0m\n\u001b[0m\u001b[0;32m     48\u001b[0m         \u001b[0mcmp\u001b[0m\u001b[1;33m[\u001b[0m\u001b[0mi\u001b[0m\u001b[1;33m-\u001b[0m\u001b[1;36m1\u001b[0m\u001b[1;33m]\u001b[0m \u001b[1;33m=\u001b[0m \u001b[0mcmp\u001b[0m\u001b[1;33m[\u001b[0m\u001b[0mi\u001b[0m\u001b[1;33m-\u001b[0m\u001b[1;36m1\u001b[0m\u001b[1;33m]\u001b[0m\u001b[1;33m+\u001b[0m\u001b[1;36m1\u001b[0m  \u001b[1;31m# increment next digit\u001b[0m\u001b[1;33m\u001b[0m\u001b[1;33m\u001b[0m\u001b[0m\n\u001b[0;32m     49\u001b[0m         \u001b[0mcmp\u001b[0m\u001b[1;33m[\u001b[0m\u001b[0mm\u001b[0m\u001b[1;33m-\u001b[0m\u001b[1;36m1\u001b[0m\u001b[1;33m]\u001b[0m \u001b[1;33m=\u001b[0m \u001b[0mcmp\u001b[0m\u001b[1;33m[\u001b[0m\u001b[0mi\u001b[0m\u001b[1;33m]\u001b[0m\u001b[1;33m-\u001b[0m\u001b[1;36m1\u001b[0m    \u001b[1;31m# the rest to the lowest\u001b[0m\u001b[1;33m\u001b[0m\u001b[1;33m\u001b[0m\u001b[0m\n",
      "\u001b[1;31mKeyboardInterrupt\u001b[0m: "
     ]
    }
   ],
   "source": [
    "N = 10  # number of points\n",
    "kk = lambda i: 2+i  # step formula\n",
    "M = 20  # quantity of indivisible good in units of lambda\n",
    "\n",
    "n,x,std = [0]*N,[0]*N,[0]*N   # initialize lists\n",
    "for i in range(N):\n",
    "    n[i] = kk(i)  # number of list elements\n",
    "    t = %timeit -n2 -r10 -o for c in compositions(M,n[i]): pass\n",
    "    x[i] = t.average\n",
    "    std[i] = t.stdev\n",
    "\n",
    "plt.errorbar(n,x,std)\n",
    "plt.xlabel('Number of elements in compositions')\n",
    "plt.ylabel('run time, sec')\n",
    "plt.show()\n",
    "\n",
    "plt.errorbar(n,x,std)\n",
    "plt.yscale('log')\n",
    "plt.xlabel('Number of elements in compositions')\n",
    "plt.ylabel('log(run time)')\n",
    "plt.show()"
   ]
  },
  {
   "cell_type": "markdown",
   "metadata": {
    "slideshow": {
     "slide_type": "slide"
    }
   },
   "source": [
    "#### Other exponential algorithms\n",
    "\n",
    "- Many board games (checkers, chess, shogi, go) in n-by-n generalizations  \n",
    "- Traveling salesman problem (TSP)  \n",
    "- Many problems in economics are subject to “curse of dimensionality”  \n",
    "\n",
    "\n",
    "**Curse of dimensionality** = exponential time in solution algorithms"
   ]
  },
  {
   "cell_type": "markdown",
   "metadata": {
    "slideshow": {
     "slide_type": "slide"
    }
   },
   "source": [
    "#### What to do with heavy to compute models?\n",
    "\n",
    "1. Design of better solution algorithms  \n",
    "1. Analyze special classes of problems + rely on problem structure  \n",
    "1. Speed up the code (low level language, compilation to machine code)  \n",
    "1. Parallelize the computations  \n",
    "1. Bound the problem to maximize model usefulness while keeping it tractable  \n",
    "1. Wait for innovations in computing technology  "
   ]
  },
  {
   "cell_type": "markdown",
   "metadata": {
    "slideshow": {
     "slide_type": "slide"
    }
   },
   "source": [
    "#### Classes of computational complexity\n",
    "\n",
    "Thinking of all problems there are:\n",
    "\n",
    "- **P** can be solved in polynomial time  \n",
    "- **NP** solution can checked in polynomial time, even if requires *exponential* solution algorithm  \n",
    "- **NP-hard** as complex as *any* NP problem (including all exponential and combinatorial problems)  \n",
    "- **NP-complete** both NP and NP-hard (tied via reductions)  \n",
    "\n",
    "\n",
    "NP stands for non-deterministic polynomial time $ \\leftrightarrow $ *‘magic’ guess* algorithm"
   ]
  },
  {
   "cell_type": "markdown",
   "metadata": {
    "slideshow": {
     "slide_type": "slide"
    }
   },
   "source": [
    "#### P vs. NP\n",
    "\n",
    "Unresolved question of whether **P = NP** or **P** $ \\ne $ **NP** (\\$1 mln. prize by Clay Mathematics Institute)\n",
    "\n",
    "<img src=\"_static/img/complexity_classes.png\" style=\"width:500px;\">"
   ]
  },
  {
   "cell_type": "markdown",
   "metadata": {
    "slideshow": {
     "slide_type": "slide"
    }
   },
   "source": [
    "### Further learning resources\n",
    "\n",
    "- Profiling python code\n",
    "  [https://docs.python.org/3/library/profile.html](https://docs.python.org/3/library/profile.html)  \n",
    "- Complexity classes and P vs. NP\n",
    "  - [https://en.wikipedia.org/wiki/P_versus_NP_problem](https://en.wikipedia.org/wiki/P_versus_NP_problem)\n",
    "  - [https://cs.stackexchange.com/questions/9556/what-is-the-definition-of-p-np-np-complete-and-np-hard](https://cs.stackexchange.com/questions/9556/what-is-the-definition-of-p-np-np-complete-and-np-hard)\n",
    "  - [https://www.youtube.com/watch?v=YX40hbAHx3s](https://www.youtube.com/watch?v=YX40hbAHx3s)  \n",
    "- Lecture on algorithm complexity by Erik Demaine, MIT (50 min)\n",
    "  [https://www.youtube.com/watch?v=moPtwq_cVH8](https://www.youtube.com/watch?v=moPtwq_cVH8)  \n",
    "- Big-O cheet sheet\n",
    "  [https://www.bigocheatsheet.com/](https://www.bigocheatsheet.com/)  "
   ]
  }
 ],
 "metadata": {
  "celltoolbar": "Slideshow",
  "date": 1627474985.834283,
  "filename": "09_algorithms.rst",
  "kernelspec": {
   "display_name": "Python 3 (ipykernel)",
   "language": "python",
   "name": "python3"
  },
  "language_info": {
   "codemirror_mode": {
    "name": "ipython",
    "version": 3
   },
   "file_extension": ".py",
   "mimetype": "text/x-python",
   "name": "python",
   "nbconvert_exporter": "python",
   "pygments_lexer": "ipython3",
   "version": "3.9.13"
  },
  "title": "Foundations of Computational Economics #9"
 },
 "nbformat": 4,
 "nbformat_minor": 4
}
