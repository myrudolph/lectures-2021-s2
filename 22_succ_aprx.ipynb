{
 "cells": [
  {
   "cell_type": "markdown",
   "metadata": {
    "slideshow": {
     "slide_type": "slide"
    }
   },
   "source": [
    "# Foundations of Computational Economics #22\n",
    "\n",
    "by Fedor Iskhakov, ANU\n",
    "\n",
    "<img src=\"_static/img/dag3logo.png\" style=\"width:256px;\">"
   ]
  },
  {
   "cell_type": "markdown",
   "metadata": {
    "slideshow": {
     "slide_type": "fragment"
    }
   },
   "source": [
    "## Successive approximations (fixed point iterations)\n",
    "\n",
    "<img src=\"_static/img/lecture.png\" style=\"width:64px;\">"
   ]
  },
  {
   "cell_type": "markdown",
   "metadata": {
    "slideshow": {
     "slide_type": "subslide"
    }
   },
   "source": [
    "<img src=\"_static/img/youtube.png\" style=\"width:65px;\">\n",
    "\n",
    "[https://youtu.be/AQt9Q9qc3io](https://youtu.be/AQt9Q9qc3io)\n",
    "\n",
    "Description: Scalar and multivariate solver. Equilibrium in market of platforms."
   ]
  },
  {
   "cell_type": "markdown",
   "metadata": {
    "slideshow": {
     "slide_type": "slide"
    }
   },
   "source": [
    "### What is successive approximations?\n",
    "\n",
    "- root finding method for the equations of the type  \n",
    "\n",
    "\n",
    "$$\n",
    "x = F(x) \\quad \\Leftrightarrow \\quad F(x) - x = 0\n",
    "$$\n",
    "\n",
    "- **fixed point equation**  \n",
    "- conversion is always possible (although does not guaranteed to work as we’ll see below)  \n",
    "\n",
    "\n",
    "$$\n",
    "g(x) = 0 \\quad \\Leftrightarrow \\quad \\underbrace{g(x) + x}_{F(x)} = x\n",
    "$$"
   ]
  },
  {
   "cell_type": "markdown",
   "metadata": {
    "slideshow": {
     "slide_type": "slide"
    }
   },
   "source": [
    "#### Main algorithm\n",
    "\n",
    "$$\n",
    "x = F(x) \\rightarrow x_{n+1} = F(x_n)\n",
    "$$\n",
    "\n",
    "1. Initialize the iterations at $ x_0 $  \n",
    "1. Iterate on $ x_{i+1} = F(x_i) $ until $ x_{i+1} $ is close enough to $ x_i $  "
   ]
  },
  {
   "cell_type": "markdown",
   "metadata": {
    "slideshow": {
     "slide_type": "slide"
    }
   },
   "source": [
    "#### Stationary distribution of Markov chains\n",
    "\n",
    "For aperiodic and irreducible Markov chain with transition probability matrix $ P $, the stationary distribution\n",
    "is given by $ \\psi^\\star = \\psi^\\star P $\n",
    "\n",
    "Successive approximation applicable with $ F(\\psi) = \\psi P $\n",
    "\n",
    "Have seen this is last two videos"
   ]
  },
  {
   "cell_type": "markdown",
   "metadata": {
    "slideshow": {
     "slide_type": "slide"
    }
   },
   "source": [
    "#### Will it converge?\n",
    "\n",
    "*The central question for the successive approximations method*\n",
    "\n",
    "- it will from any starting point for aperiodic and irreducible Markov chains  \n",
    "- but what are the general conditions?  \n",
    "\n",
    "\n",
    "Will come back to this question in general terms when talking about the dynamic models and Bellman operator\n",
    "(which is a *contraction mapping*)"
   ]
  },
  {
   "cell_type": "markdown",
   "metadata": {
    "slideshow": {
     "slide_type": "slide"
    }
   },
   "source": [
    "#### Scalar example\n",
    "\n",
    "$$\n",
    "\\frac{1}{2} - \\exp\\big(-(x-2)^2\\big) = 0\n",
    "$$\n",
    "\n",
    "Using the trick above convert to $ x = F(x) $\n",
    "\n",
    "$$\n",
    "F(x) = x - \\exp\\big(-(x-2)^2\\big) + \\frac{1}{2}\n",
    "$$\n",
    "\n",
    "$$\n",
    "x_{i+1} = x_i - \\exp\\big(-(x_i-2)^2\\big) + \\frac{1}{2}\n",
    "$$"
   ]
  },
  {
   "cell_type": "code",
   "execution_count": 1,
   "metadata": {
    "hide-output": false,
    "slideshow": {
     "slide_type": "slide"
    }
   },
   "outputs": [],
   "source": [
    "import numpy as np\n",
    "eq = lambda x:  - np.exp(-(x-2)**2) + .5  # initial equation\n",
    "F = lambda x: x - np.exp(-(x-2)**2) + .5  # fixed point equation\n",
    "dF = lambda x: 1 + np.exp(-(x-2)**2)*2*(x-2)  # derivative (for later)"
   ]
  },
  {
   "cell_type": "code",
   "execution_count": 2,
   "metadata": {
    "hide-output": false,
    "slideshow": {
     "slide_type": "slide"
    }
   },
   "outputs": [],
   "source": [
    "def solve_sa(F,x0,tol=1e-6,maxiter=100,callback=None):\n",
    "    '''Computes the solution of fixed point equation x = F(x)\n",
    "    with given initial value x0 and algorithm parameters\n",
    "    Method: successive approximations\n",
    "    '''\n",
    "    for i in range(maxiter):  # main loop\n",
    "        x1 = F(x0)  # update approximation\n",
    "        err = np.amax(np.abs(x0-x1))  # allow for x to be array\n",
    "        if callback != None: callback(iter=i,err=err,x=x1,x0=x0)\n",
    "        if err<tol:\n",
    "            break  # break out if converged\n",
    "        x0 = x1  # get ready to the next iteration\n",
    "    else:\n",
    "        raise RuntimeError('Failed to converge in %d iterations'%maxiter)\n",
    "    return x1"
   ]
  },
  {
   "cell_type": "code",
   "execution_count": 10,
   "metadata": {
    "hide-output": false,
    "slideshow": {
     "slide_type": "slide"
    }
   },
   "outputs": [
    {
     "name": "stdout",
     "output_type": "stream",
     "text": [
      "iter 0, x = 2.7727075760 (err = 2.729e-02)\n",
      "iter 1, x = 2.7222894155 (err = 5.042e-02)\n",
      "iter 2, x = 2.6287798808 (err = 9.351e-02)\n",
      "iter 3, x = 2.4553451097 (err = 1.734e-01)\n",
      "iter 4, x = 2.1426011640 (err = 3.127e-01)\n",
      "iter 5, x = 1.6627308923 (err = 4.799e-01)\n",
      "iter 6, x = 1.2702502466 (err = 3.925e-01)\n",
      "iter 7, x = 1.1831353262 (err = 8.711e-02)\n",
      "iter 8, x = 1.1700267955 (err = 1.311e-02)\n",
      "iter 9, x = 1.1678763541 (err = 2.150e-03)\n",
      "iter 10, x = 1.1675175162 (err = 3.588e-04)\n",
      "iter 11, x = 1.1674574652 (err = 6.005e-05)\n",
      "iter 12, x = 1.1674474109 (err = 1.005e-05)\n",
      "iter 13, x = 1.1674457274 (err = 1.684e-06)\n",
      "iter 14, x = 1.1674454455 (err = 2.819e-07)\n",
      "iter 15, x = 1.1674453983 (err = 4.720e-08)\n",
      "iter 16, x = 1.1674453904 (err = 7.904e-09)\n",
      "iter 17, x = 1.1674453891 (err = 1.323e-09)\n",
      "iter 18, x = 1.1674453889 (err = 2.216e-10)\n",
      "iter 19, x = 1.1674453888 (err = 3.711e-11)\n",
      "Residual in the original equation = -6.21325e-12\n"
     ]
    }
   ],
   "source": [
    "def printme(**kwargs):\n",
    "    print('iter %d, x = %1.10f (err = %1.3e)'%(kwargs['iter'],kwargs['x'],kwargs['err']))\n",
    "x = solve_sa(F,x0=2.8,tol=1e-10,maxiter=200,callback=printme)\n",
    "print('Residual in the original equation = %1.5e' % eq(x))\n",
    "# try different starting points, including >2.8"
   ]
  },
  {
   "cell_type": "code",
   "execution_count": 11,
   "metadata": {
    "hide-output": false,
    "slideshow": {
     "slide_type": "slide"
    }
   },
   "outputs": [],
   "source": [
    "# plot to understand what is going on!\n",
    "import numpy as np\n",
    "import matplotlib.pyplot as plt\n",
    "%matplotlib inline\n",
    "plt.rcParams['figure.figsize'] = [12, 8]"
   ]
  },
  {
   "cell_type": "code",
   "execution_count": 17,
   "metadata": {
    "hide-output": false,
    "slideshow": {
     "slide_type": "slide"
    }
   },
   "outputs": [
    {
     "ename": "RuntimeError",
     "evalue": "Failed to converge in 100 iterations",
     "output_type": "error",
     "traceback": [
      "\u001b[1;31m---------------------------------------------------------------------------\u001b[0m",
      "\u001b[1;31mRuntimeError\u001b[0m                              Traceback (most recent call last)",
      "\u001b[1;32m~\\AppData\\Local\\Temp\\ipykernel_7528\\3622254946.py\u001b[0m in \u001b[0;36m<module>\u001b[1;34m\u001b[0m\n\u001b[0;32m     16\u001b[0m         \u001b[0mplt\u001b[0m\u001b[1;33m.\u001b[0m\u001b[0mplot\u001b[0m\u001b[1;33m(\u001b[0m\u001b[1;33m[\u001b[0m\u001b[0mx\u001b[0m\u001b[1;33m,\u001b[0m\u001b[0mf\u001b[0m\u001b[1;33m]\u001b[0m\u001b[1;33m,\u001b[0m\u001b[1;33m[\u001b[0m\u001b[0mf\u001b[0m\u001b[1;33m,\u001b[0m\u001b[0mf\u001b[0m\u001b[1;33m]\u001b[0m\u001b[1;33m,\u001b[0m\u001b[0mc\u001b[0m\u001b[1;33m=\u001b[0m\u001b[1;34m'green'\u001b[0m\u001b[1;33m)\u001b[0m  \u001b[1;31m# horizontal line\u001b[0m\u001b[1;33m\u001b[0m\u001b[1;33m\u001b[0m\u001b[0m\n\u001b[0;32m     17\u001b[0m \u001b[0mplot_step\u001b[0m\u001b[1;33m.\u001b[0m\u001b[0mcounter\u001b[0m \u001b[1;33m=\u001b[0m \u001b[1;36m0\u001b[0m  \u001b[1;31m# new public attribute\u001b[0m\u001b[1;33m\u001b[0m\u001b[1;33m\u001b[0m\u001b[0m\n\u001b[1;32m---> 18\u001b[1;33m \u001b[0mx\u001b[0m \u001b[1;33m=\u001b[0m \u001b[0msolve_sa\u001b[0m\u001b[1;33m(\u001b[0m\u001b[0mF\u001b[0m\u001b[1;33m,\u001b[0m\u001b[0mx0\u001b[0m\u001b[1;33m,\u001b[0m\u001b[0mtol\u001b[0m\u001b[1;33m=\u001b[0m\u001b[1;36m1e-10\u001b[0m\u001b[1;33m,\u001b[0m\u001b[0mcallback\u001b[0m\u001b[1;33m=\u001b[0m\u001b[0mplot_step\u001b[0m\u001b[1;33m)\u001b[0m\u001b[1;33m\u001b[0m\u001b[1;33m\u001b[0m\u001b[0m\n\u001b[0m\u001b[0;32m     19\u001b[0m \u001b[0mplt\u001b[0m\u001b[1;33m.\u001b[0m\u001b[0mshow\u001b[0m\u001b[1;33m(\u001b[0m\u001b[1;33m)\u001b[0m\u001b[1;33m\u001b[0m\u001b[1;33m\u001b[0m\u001b[0m\n",
      "\u001b[1;32m~\\AppData\\Local\\Temp\\ipykernel_7528\\2540613954.py\u001b[0m in \u001b[0;36msolve_sa\u001b[1;34m(F, x0, tol, maxiter, callback)\u001b[0m\n\u001b[0;32m     12\u001b[0m         \u001b[0mx0\u001b[0m \u001b[1;33m=\u001b[0m \u001b[0mx1\u001b[0m  \u001b[1;31m# get ready to the next iteration\u001b[0m\u001b[1;33m\u001b[0m\u001b[1;33m\u001b[0m\u001b[0m\n\u001b[0;32m     13\u001b[0m     \u001b[1;32melse\u001b[0m\u001b[1;33m:\u001b[0m\u001b[1;33m\u001b[0m\u001b[1;33m\u001b[0m\u001b[0m\n\u001b[1;32m---> 14\u001b[1;33m         \u001b[1;32mraise\u001b[0m \u001b[0mRuntimeError\u001b[0m\u001b[1;33m(\u001b[0m\u001b[1;34m'Failed to converge in %d iterations'\u001b[0m\u001b[1;33m%\u001b[0m\u001b[0mmaxiter\u001b[0m\u001b[1;33m)\u001b[0m\u001b[1;33m\u001b[0m\u001b[1;33m\u001b[0m\u001b[0m\n\u001b[0m\u001b[0;32m     15\u001b[0m     \u001b[1;32mreturn\u001b[0m \u001b[0mx1\u001b[0m\u001b[1;33m\u001b[0m\u001b[1;33m\u001b[0m\u001b[0m\n",
      "\u001b[1;31mRuntimeError\u001b[0m: Failed to converge in 100 iterations"
     ]
    },
    {
     "data": {
      "image/png": "[encoded data removed]",
      "text/plain": [
       "<Figure size 1200x800 with 1 Axes>"
      ]
     },
     "metadata": {},
     "output_type": "display_data"
    }
   ],
   "source": [
    "# a,b,x0 = 0,2,1.0  # bounds and starting value\n",
    "# a,b,x0 = 0,2.5,2.75\n",
    "a,b,x0 = 0,10,2.85\n",
    "xd = np.linspace(a,b,100)  # x grid\n",
    "plt.plot([a,b],[a,b],c='grey')  # plot the 45 degree line\n",
    "plt.plot(xd,F(xd),c='red')  # plot the function\n",
    "def plot_step(**kwargs):\n",
    "    if plot_step.counter < 10:\n",
    "        if plot_step.counter == 0:\n",
    "            x,f = kwargs['x0'],F(kwargs['x0'])\n",
    "            plt.plot([x,x],[0,f],c='green')  # initial vertical line\n",
    "            plt.plot([x,f],[f,f],c='green')\n",
    "        plot_step.counter += 1\n",
    "        x,f = kwargs['x'],F(kwargs['x'])\n",
    "        plt.plot([x,x],[x,f],c='green')  # vertical line\n",
    "        plt.plot([x,f],[f,f],c='green')  # horizontal line\n",
    "plot_step.counter = 0  # new public attribute\n",
    "x = solve_sa(F,x0,tol=1e-10,callback=plot_step)\n",
    "plt.show()"
   ]
  },
  {
   "cell_type": "markdown",
   "metadata": {
    "slideshow": {
     "slide_type": "slide"
    }
   },
   "source": [
    "#### Condition for convergence in scalar case\n",
    "\n",
    "$$\n",
    "|F'(x^\\star)| < 1\n",
    "$$\n",
    "\n",
    "- where $ x^\\star $ is the solution/root  \n",
    "- **stable solution**  "
   ]
  },
  {
   "cell_type": "code",
   "execution_count": 18,
   "metadata": {
    "hide-output": false,
    "slideshow": {
     "slide_type": "slide"
    }
   },
   "outputs": [
    {
     "data": {
      "image/png": "[encoded data removed]",
      "text/plain": [
       "<Figure size 1200x800 with 1 Axes>"
      ]
     },
     "metadata": {},
     "output_type": "display_data"
    }
   ],
   "source": [
    "a,b = 0,5\n",
    "xd = np.linspace(a,b,1000)\n",
    "plt.plot([a,b],[1,1],c='grey')  # 1 line\n",
    "plt.plot(xd,dF(xd),c='red')  # plot the derivative\n",
    "plt.show()"
   ]
  },
  {
   "cell_type": "markdown",
   "metadata": {
    "slideshow": {
     "slide_type": "slide"
    }
   },
   "source": [
    "#### Limitations of successive approximations method\n",
    "\n",
    "- Only stable solutions can be computed with SA  \n",
    "- Starting values matter for convergence!  \n",
    "- Also, only linear (slow) convergence to the solution when it does converge  \n",
    "\n",
    "\n",
    "But very easy to implement!"
   ]
  },
  {
   "cell_type": "markdown",
   "metadata": {
    "slideshow": {
     "slide_type": "slide"
    }
   },
   "source": [
    "### Multivariate example: platform market equilibrium\n",
    "\n",
    "- Platform is product or service with *network effects*, i.e. value (for firm and users) is generated from the interaction of users, and therefore depends on the size of the user base.  \n",
    "- Examples: game consoles, interface standards, social media, two-sided market platforms (Amazon, Ebay), peer-to-peer markets (Uber, AirBnB)  \n",
    "- Because of better experience of the users on larger platforms, platform markets tend to monopolization (*tipping markets*)  \n",
    "- Yet, there can be opposite forces as well: heterogeneous preferences or *congestion* in too large platforms  \n",
    "- Many different aspects (see further learning resources), we’ll look at a simple example, focusing on consumer choice and equilibrium  "
   ]
  },
  {
   "cell_type": "markdown",
   "metadata": {
    "slideshow": {
     "slide_type": "slide"
    }
   },
   "source": [
    "#### The model\n",
    "\n",
    "- $ m $ products, $ i=1,\\dots,m $  \n",
    "- unit mass of consumers of $ n $ types with different preferences over the product  \n",
    "- $ p_j $ are fractions of consumer types in the population, $ j=1,\\dots,n $  \n",
    "- utility function of consumers of type $ j \\in 1,\\dots,n $ from product $ i \\in 1,\\dots,m $ is given by  \n",
    "\n",
    "\n",
    "$$\n",
    "u_{ij} = c_{ij} + s_i,\n",
    "$$\n",
    "\n",
    "- $ c_{ij} $ are *valuations* of each product by each of the consumer type  \n",
    "- $ s_i $ are market shares of each product, increase utility when more people are using the same platform  "
   ]
  },
  {
   "cell_type": "markdown",
   "metadata": {
    "slideshow": {
     "slide_type": "slide"
    }
   },
   "source": [
    "#### Choice probabilities\n",
    "\n",
    "Standard random utility framework with logit choice probabilities\n",
    "\n",
    "- value of choice $ U_{ij} = u_{ij} + \\epsilon[i] $ is effected by the random factors  \n",
    "- one $ \\epsilon[i] $ for each product choice, forming the vector $ \\epsilon = (\\epsilon[1],\\dots,\\epsilon[m]) $  \n",
    "- elements of $ \\epsilon $ are extreme value type I (EV1) random components of the utility, iid between consumers and products  \n",
    "\n",
    "\n",
    "$$\n",
    "P_{ij} = \\frac{\\exp(u_{ij})}{\\sum_{k=1}^m \\exp(u_{kj})}\n",
    "= \\frac{\\exp(u_{ij}-\\alpha)}{\\sum_{k=1}^m \\exp(u_{kj}-\\alpha)}, \\; \\forall \\alpha\n",
    "$$"
   ]
  },
  {
   "cell_type": "markdown",
   "metadata": {
    "slideshow": {
     "slide_type": "slide"
    }
   },
   "source": [
    "#### Market shares\n",
    "\n",
    "- assume choice is made once, and no changes are made afterwards  \n",
    "- under the assumption of unit mass of consumers we have  \n",
    "\n",
    "\n",
    "$$\n",
    "s_i = \\sum_{j=1}^n p_j P_{ij} = P \\cdot p\n",
    "$$\n",
    "\n",
    "- simple matrix product, assuming $ p $ is a column-vector  "
   ]
  },
  {
   "cell_type": "markdown",
   "metadata": {
    "slideshow": {
     "slide_type": "slide"
    }
   },
   "source": [
    "#### Fixed point equation\n",
    "\n",
    "Combining the last three expressions:\n",
    "\n",
    "$$\n",
    "u_{ij} = c_{ij} + \\sum_{t=1}^n p_t \\frac{\\exp(u_{it})}{\\sum_{k=1}^m \\exp(u_{kt})}\n",
    "$$\n",
    "\n",
    "- $ mn $ fixed point equations  \n",
    "- fixed point in the ($ mn $)-dimensional space of $ u_{ij} $  "
   ]
  },
  {
   "cell_type": "code",
   "execution_count": 33,
   "metadata": {
    "hide-output": false,
    "slideshow": {
     "slide_type": "slide"
    }
   },
   "outputs": [],
   "source": [
    "class model:\n",
    "    '''Simple platform equilibrium model'''\n",
    "\n",
    "    def __init__(self,m=2,n=2):\n",
    "        '''Define default model parameters'''\n",
    "        self.m,self.n = m,n  # number of products and consumer types\n",
    "        self.c = 5 + 10*np.random.uniform(size=(m,n))    # utilities (random uniform)\n",
    "        self.p = np.random.dirichlet(np.ones(n))  # population composition (from symmetric Dirichlet distribution)\n",
    "\n",
    "    def __repr__(self):\n",
    "        return 'Number of platform products = {:d}\\nNumber of consumer types = {:d}\\nPopulation composition = {}\\nUtilities:\\n{}'.format(self.m,self.n,self.p,self.c)\n",
    "\n",
    "    def ccp(self,u):\n",
    "        '''Conditional choice probabilities, assuming choices in row'''\n",
    "        u = np.asarray(u).reshape((self.m,self.n))   # convert to matrix\n",
    "        u = u - np.amax(u,axis=0) # de-max by column (avoid exp of large numbers)\n",
    "        e = np.exp(u)\n",
    "        esum = e.sum(axis=0)  # sums of exps\n",
    "        return e/esum         # vector of choice probabilities\n",
    "\n",
    "    def shares(self,pr):\n",
    "        '''Market shares from choice probabilities'''\n",
    "        out = pr @ self.p  # one-dim vector\n",
    "        return out[:,np.newaxis]  # column vector\n",
    "\n",
    "    def F(self,u):\n",
    "        '''Fixed point equation u=F(u)'''\n",
    "        pr = self.ccp(u)     # matrix of choice probabilities\n",
    "        sh = self.shares(pr) # market shares\n",
    "        u1 = self.c + sh     # updated utilities\n",
    "        return u1.reshape(self.m*self.n) # return one dimensional array"
   ]
  },
  {
   "cell_type": "code",
   "execution_count": 44,
   "metadata": {
    "hide-output": false,
    "slideshow": {
     "slide_type": "slide"
    }
   },
   "outputs": [
    {
     "name": "stdout",
     "output_type": "stream",
     "text": [
      "Number of platform products = 15\n",
      "Number of consumer types = 20\n",
      "Population composition = [0.08203549 0.02323416 0.00766574 0.0050268  0.02437316 0.02847483\n",
      " 0.19239643 0.04337853 0.00745614 0.07468554 0.06615112 0.05501422\n",
      " 0.06890082 0.06182737 0.05632785 0.02692142 0.05128216 0.00118394\n",
      " 0.00218438 0.12147989]\n",
      "Utilities:\n",
      "[[10.0137632  14.18685392 14.50015505  8.19406424 12.5980497   8.22500989\n",
      "   5.94666801 12.41040792  5.61388471  5.73865244 13.4047165  13.58321964\n",
      "   8.46857706  7.14464831  9.79887118  7.98258337  9.38980196 14.24281369\n",
      "  14.81757021  6.35201966]\n",
      " [11.72911936 13.82525261 11.18606865  8.59312069 13.77622477 12.6641216\n",
      "   6.51154714  7.30887982 11.79445609 11.3445589  10.42791311 13.25943173\n",
      "   6.73634132  7.87429433 10.97877929 12.11114086 11.61815563  8.14840482\n",
      "  13.5099946  11.93468188]\n",
      " [14.36396718  7.07195902  5.72502602  7.35648925 13.56986453 12.8578799\n",
      "   8.89653134 12.56904231  8.46574317 14.36548449 13.96801689  6.78949333\n",
      "  11.74716711 11.22304869  6.69207366  9.89661262  7.20392572 12.73577099\n",
      "  14.61941735  6.73124148]\n",
      " [10.48743875 13.79584413 14.5726678  13.06352741 14.24643687 14.64638852\n",
      "  10.21203823  8.24086236  7.07789965  9.64166276  8.13635758 13.79922732\n",
      "   9.38846204  5.65814616 13.84828978  8.22399266  6.67951793 14.53059012\n",
      "   5.12750793 14.46637117]\n",
      " [11.82188021  8.7996604   7.831975    5.49657128  5.32003561  5.38597873\n",
      "  10.6896109  10.3307585  11.96496383 14.34247998  9.00843699  9.1804708\n",
      "  13.39027009 11.2144795   8.46778034  7.65422907 10.40391277  5.54383548\n",
      "  10.33891485 13.04457416]\n",
      " [ 5.3525998   5.32727202  8.10752752  7.42174412  8.95528259 13.15653268\n",
      "  10.72862829 12.95565399  9.61504176  6.26412524  5.53921452 13.29998693\n",
      "   5.15381083  6.78272401  7.72088912 12.46462427 10.19810832 12.29628851\n",
      "   6.52136425 12.26086084]\n",
      " [14.43384346  7.9911187   8.31173823 13.16078813 11.65591842  6.99008984\n",
      "   6.44275624 14.1213983   5.77494746  7.44880386  8.60249729  8.01153937\n",
      "   7.61181338  7.05767815 10.44297595 12.58213887 10.19182934 13.2481489\n",
      "   5.30675048  8.5533586 ]\n",
      " [13.27931745 10.48321614 13.12401808  9.64666061 14.82457468 14.97367577\n",
      "   6.29426449  8.71003741 11.51455286 13.5329257   7.04345875 12.63850483\n",
      "  12.10883856  6.93889107  5.98008516 13.37770391  6.45223063 13.27408166\n",
      "  13.95563715 10.23817478]\n",
      " [ 6.2187749  11.07963954 11.39490334  7.793361    7.65486708 11.01274734\n",
      "  11.61106709 13.97256658  8.65981835 11.60100057  9.61948217  9.28930149\n",
      "  14.52392633  8.47190241 12.87932158  9.21813325  5.30878911  6.73458411\n",
      "   9.93168845 13.47774205]\n",
      " [11.29364058  8.03040921  9.17939828 10.92114847 10.35708783 13.98209434\n",
      "   8.04526423 10.45854275 13.42965529 14.15847701 12.30258922 13.12281347\n",
      "   8.65222298 13.66668659  9.98184593 14.9149413   6.58193792  5.35894027\n",
      "  14.07761057 13.91632621]\n",
      " [10.69879202  9.114613   12.66237228  7.38198013  6.94383185  6.48946383\n",
      "   8.65521572  8.69161088  6.25722742 10.54951302 10.73661455  7.10400279\n",
      "  14.90442429 14.71236062 10.66499157 10.97983276  8.31930482  7.83587851\n",
      "  14.54537283 12.93968928]\n",
      " [14.23302689  8.60784422 14.38521431  9.99132988  5.34601225 14.98578367\n",
      "   6.38547548 13.21363464  8.81711994  6.26234479  6.55263221 10.34855093\n",
      "   6.02201075 12.55368371  6.29552504  9.46165311  5.69317819 11.95731214\n",
      "  10.05144401  6.78055898]\n",
      " [12.62165046 11.48607021  5.390951    7.2509194   9.41183223  8.46312718\n",
      "   8.49924565 12.82192194 10.65032267  6.10377684  5.61789604 12.99539718\n",
      "  13.39369208 11.49295594  5.31350547  5.97314184 13.479283   10.94258643\n",
      "  14.76082347  6.414738  ]\n",
      " [ 6.69761939 10.13779373  8.42228866  8.77255799 14.76103806  7.40242506\n",
      "  11.57480586 14.97873085 13.67182368 14.53331617 12.34761703 10.46910616\n",
      "  12.99557462 14.45994775  9.1579808   6.36517139 13.20861763  6.14921102\n",
      "   9.19543205  8.70653524]\n",
      " [12.9427455  14.87300753  5.7897012   5.45252212 11.05873514 13.71252151\n",
      "   7.05916038  5.43267122  8.59527936 12.62153864 14.10184306 10.25201186\n",
      "  10.14149416  5.60710827  6.43240906  9.32521561 14.67328854  8.6318985\n",
      "  14.42705947 10.38206278]]\n",
      "SA from zero utilities:\n",
      "iter 0, err = 1.505e+01\n",
      "iter 1, err = 7.440e-02\n",
      "iter 2, err = 6.513e-03\n",
      "iter 3, err = 6.783e-04\n",
      "iter 4, err = 7.586e-05\n",
      "iter 5, err = 8.767e-06\n",
      "iter 6, err = 1.032e-06\n",
      "iter 7, err = 1.230e-07\n",
      "Equilibrium found!\n",
      "Equilibrium choice probabilities:\n",
      "[[3.20708209e-03 2.12805779e-01 2.77834750e-01 3.10968389e-03\n",
      "  3.06559112e-02 2.99238800e-04 9.88580078e-04 2.98860335e-02\n",
      "  1.26503842e-04 3.58515696e-05 1.71181315e-01 1.77855003e-01\n",
      "  6.35521467e-04 2.06203332e-04 1.01852316e-02 6.25806919e-04\n",
      "  2.98199471e-03 2.66782531e-01 1.81020426e-01 1.05949185e-04]\n",
      " [1.76995501e-02 1.47171730e-01 1.00318161e-02 4.60157699e-03\n",
      "  9.88716077e-02 2.51641379e-02 1.72670511e-03 1.80628057e-04\n",
      "  6.06979730e-02 9.68288664e-03 8.66023155e-03 1.27740678e-01\n",
      "  1.11612345e-04 4.24677599e-04 3.29064418e-02 3.85773622e-02\n",
      "  2.74884976e-02 5.97408888e-04 4.86112897e-02 2.79575717e-02]\n",
      " [2.57619255e-01 1.79317419e-04 4.45035963e-05 1.39495664e-03\n",
      "  8.39782281e-02 3.18894068e-02 1.95758162e-02 3.63045435e-02\n",
      "  2.27116541e-03 2.07344437e-01 3.11668758e-01 2.06626917e-04\n",
      "  1.74824562e-02 1.26217949e-02 4.72394193e-04 4.39836599e-03\n",
      "  3.47369384e-04 6.12711061e-02 1.53910960e-01 1.60468659e-04]\n",
      " [5.69156000e-03 1.59065715e-01 3.30130015e-01 4.47614132e-01\n",
      "  1.76119013e-01 2.03326399e-01 7.77759209e-02 5.10580485e-04\n",
      "  6.04399203e-04 1.96322726e-03 9.74638838e-04 2.43940322e-01\n",
      "  1.76212923e-03 5.15374064e-05 6.45680434e-01 8.80419485e-04\n",
      "  2.19205794e-04 3.93136768e-01 1.23820789e-05 3.91311188e-01]\n",
      " [2.00752888e-02 9.99197826e-04 3.62350820e-04 2.15033647e-04\n",
      "  2.17274799e-05 1.79613435e-05 1.16450743e-01 3.83340316e-03\n",
      "  7.44112868e-02 2.00631666e-01 2.16507484e-03 2.23497693e-03\n",
      "  8.95139725e-02 1.23907442e-02 2.76173492e-03 4.62524121e-04\n",
      "  8.43773893e-03 4.56599717e-05 2.10847647e-03 8.76866737e-02]\n",
      " [3.05798699e-05 3.04760715e-05 4.68971883e-04 1.44858831e-03\n",
      "  8.09326343e-04 4.18209734e-02 1.18969028e-01 5.19886739e-02\n",
      "  6.97312165e-03 6.11450367e-05 6.62453430e-05 1.35114757e-01\n",
      "  2.32910271e-05 1.44796162e-04 1.28575396e-03 5.57967747e-02\n",
      "  6.74827797e-03 3.84092072e-02 4.55380277e-05 3.93475632e-02]\n",
      " [2.67401053e-01 4.35157396e-04 5.72305415e-04 4.47892296e-01\n",
      "  1.19891498e-02 8.73243798e-05 1.62890893e-03 1.65950486e-01\n",
      "  1.49103880e-04 1.98908831e-04 1.41031338e-03 6.78816924e-04\n",
      "  2.70694265e-04 1.89653816e-04 1.94598114e-02 6.24364937e-02\n",
      "  6.67205329e-03 9.89957447e-02 1.34483073e-05 9.60646370e-04]\n",
      " [8.46113143e-02 5.27983237e-03 7.06714563e-02 1.33868070e-02\n",
      "  2.86146153e-01 2.57058771e-01 1.40953952e-03 7.43916097e-04\n",
      "  4.65411918e-02 8.76242290e-02 2.97785394e-04 6.96446609e-02\n",
      "  2.43883194e-02 1.69060682e-04 2.25216076e-04 1.38872934e-01\n",
      "  1.59162966e-04 1.01987884e-01 7.70018190e-02 5.19923584e-03]\n",
      " [7.87421851e-05 1.03938685e-02 1.35966758e-02 2.27474595e-03\n",
      "  2.38757574e-04 5.30831585e-03 3.11364416e-01 1.55648531e-01\n",
      "  2.90519808e-03 1.37636454e-02 4.24414133e-03 2.65143502e-03\n",
      "  2.95920368e-01 8.49091852e-04 2.42121517e-01 2.35110877e-03\n",
      "  5.50028724e-05 1.59813909e-04 1.49298677e-03 1.43879658e-01]\n",
      " [1.21750614e-02 4.76201594e-04 1.43393233e-03 5.01870045e-02\n",
      "  3.44186832e-03 9.99551806e-02 8.51016549e-03 4.48024128e-03\n",
      "  3.31106072e-01 1.71675735e-01 6.00241418e-02 1.18476338e-01\n",
      "  8.06128047e-04 1.48012472e-01 1.29108023e-02 6.77084007e-01\n",
      "  1.89925994e-04 3.90353053e-05 9.11768518e-02 2.15651068e-01]\n",
      " [6.61381961e-03 1.38667667e-03 4.59711832e-02 1.43506189e-03\n",
      "  1.11623761e-04 5.48425777e-05 1.54225864e-02 7.53795045e-04\n",
      "  2.50231474e-04 4.57800654e-03 1.23467439e-02 2.83802354e-04\n",
      "  4.12117630e-01 4.14714679e-01 2.51744649e-02 1.30306856e-02\n",
      "  1.06275682e-03 4.57613497e-04 1.43334851e-01 7.99694706e-02]\n",
      " [2.18398726e-01 8.04984223e-04 2.48087863e-01 1.87929897e-02\n",
      "  2.17636367e-05 2.58774651e-01 1.53575026e-03 6.68409005e-02\n",
      "  3.11880468e-03 6.06292158e-05 1.81288829e-04 7.01462399e-03\n",
      "  5.51235345e-05 4.61473733e-02 3.07060603e-04 2.75124503e-03\n",
      "  7.41004161e-05 2.71840249e-02 1.54369806e-03 1.62909709e-04]\n",
      " [4.34432546e-02 1.42649148e-02 3.06853258e-05 1.20874550e-03\n",
      "  1.26467458e-03 3.79011299e-04 1.26707833e-02 4.50202368e-02\n",
      "  1.94366831e-02 5.15585758e-05 7.09421633e-05 9.86277813e-02\n",
      "  8.73578080e-02 1.59207277e-02 1.14610013e-04 8.37475717e-05\n",
      "  1.77732621e-01 9.81992407e-03 1.70727711e-01 1.12604846e-04]\n",
      " [1.30723824e-04 4.16798881e-03 7.15534127e-04 6.22845761e-03\n",
      "  2.99444101e-01 1.47639130e-04 3.08822325e-01 4.37828853e-01\n",
      "  4.48796817e-01 2.65711117e-01 6.68023159e-02 8.87261040e-03\n",
      "  6.60097230e-02 3.48110787e-01 6.02647531e-03 1.39455257e-04\n",
      "  1.52554515e-01 9.15330715e-05 7.35345821e-04 1.25336733e-03]\n",
      " [6.28239896e-02 4.42538161e-01 4.79577841e-05 2.09920192e-04\n",
      "  6.88609478e-03 7.57161468e-02 3.14873228e-03 2.91776507e-05\n",
      "  2.61144897e-03 3.66169572e-02 3.59906065e-01 6.65756652e-03\n",
      "  3.54522232e-03 4.64007615e-05 3.68052331e-04 2.50906966e-03\n",
      "  6.15276777e-01 1.02174488e-03 1.28264216e-01 6.24162532e-03]]\n",
      "Equilibrium market shares:\n",
      "[0.03223139 0.02505292 0.06814862 0.13217869 0.0582425  0.04061993\n",
      " 0.03553921 0.03938361 0.12028191 0.08638219 0.07100239 0.03392858\n",
      " 0.0304382  0.1483453  0.07822457]\n"
     ]
    }
   ],
   "source": [
    "def printiter(**kwargs):\n",
    "    print('iter %d, err = %1.3e'%(kwargs['iter'],kwargs['err']))\n",
    "md = model(m=15,n=20)\n",
    "print(md)\n",
    "print('SA from zero utilities:')\n",
    "x = solve_sa(md.F,x0=np.zeros(md.n*md.m),callback=printiter)\n",
    "print('Equilibrium found!')\n",
    "ccp = md.ccp(x)\n",
    "shares = md.shares(ccp).squeeze()  # make one-dim array\n",
    "print('Equilibrium choice probabilities:',ccp,'Equilibrium market shares:',shares,sep='\\n')"
   ]
  },
  {
   "cell_type": "markdown",
   "metadata": {
    "slideshow": {
     "slide_type": "slide"
    }
   },
   "source": [
    "### Further learning resources\n",
    "\n",
    "- Oscar Veliz videos on fixed point iterations\n",
    "  [https://www.youtube.com/watch?v=OLqdJMjzib8](https://www.youtube.com/watch?v=OLqdJMjzib8)\n",
    "  [https://www.youtube.com/watch?v=FyCviw2ZA2o](https://www.youtube.com/watch?v=FyCviw2ZA2o)  \n",
    "- Non-technical review of platform competition\n",
    "  [https://papers.ssrn.com/sol3/papers.cfm?abstract_id=3502964](https://papers.ssrn.com/sol3/papers.cfm?abstract_id=3502964)  \n",
    "- Blog posts on platform competition by Paul Belleflamme\n",
    "  [http://www.ipdigit.eu/2020/04/an-introduction-to-the-economics-of-platform-competition-part-1/](http://www.ipdigit.eu/2020/04/an-introduction-to-the-economics-of-platform-competition-part-1/)\n",
    "  [http://www.ipdigit.eu/2020/04/an-introduction-to-the-economics-of-platform-competition-part-2/](http://www.ipdigit.eu/2020/04/an-introduction-to-the-economics-of-platform-competition-part-2/)\n",
    "  [http://www.ipdigit.eu/2020/04/an-introduction-to-the-economics-of-platform-competition-part-3/](http://www.ipdigit.eu/2020/04/an-introduction-to-the-economics-of-platform-competition-part-3/)  "
   ]
  }
 ],
 "metadata": {
  "celltoolbar": "Slideshow",
  "date": 1627474986.221507,
  "filename": "22_succ_aprx.rst",
  "kernelspec": {
   "display_name": "Python 3 (ipykernel)",
   "language": "python",
   "name": "python3"
  },
  "language_info": {
   "codemirror_mode": {
    "name": "ipython",
    "version": 3
   },
   "file_extension": ".py",
   "mimetype": "text/x-python",
   "name": "python",
   "nbconvert_exporter": "python",
   "pygments_lexer": "ipython3",
   "version": "3.9.13"
  },
  "title": "Foundations of Computational Economics #22"
 },
 "nbformat": 4,
 "nbformat_minor": 4
}
